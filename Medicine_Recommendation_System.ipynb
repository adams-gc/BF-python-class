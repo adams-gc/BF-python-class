{
  "nbformat": 4,
  "nbformat_minor": 0,
  "metadata": {
    "colab": {
      "private_outputs": true,
      "provenance": [],
      "authorship_tag": "ABX9TyM76ud0NrsXU8DhciIRrAcv",
      "include_colab_link": true
    },
    "kernelspec": {
      "name": "python3",
      "display_name": "Python 3"
    },
    "language_info": {
      "name": "python"
    }
  },
  "cells": [
    {
      "cell_type": "markdown",
      "metadata": {
        "id": "view-in-github",
        "colab_type": "text"
      },
      "source": [
        "<a href=\"https://colab.research.google.com/github/adams-gc/BF-python-class/blob/main/Medicine_Recommendation_System.ipynb\" target=\"_parent\"><img src=\"https://colab.research.google.com/assets/colab-badge.svg\" alt=\"Open In Colab\"/></a>"
      ]
    },
    {
      "cell_type": "code",
      "execution_count": null,
      "metadata": {
        "id": "97Wi58MElbXi"
      },
      "outputs": [],
      "source": [
        "import pandas as pd\n",
        "import numpy as np\n"
      ]
    },
    {
      "cell_type": "code",
      "source": [
        "data=pd.read_csv('/content/Training.csv')\n",
        "data"
      ],
      "metadata": {
        "id": "btZuqxBKmII9"
      },
      "execution_count": null,
      "outputs": []
    },
    {
      "cell_type": "code",
      "source": [
        "data.shape"
      ],
      "metadata": {
        "id": "ipjGiuYnmlF_"
      },
      "execution_count": null,
      "outputs": []
    },
    {
      "cell_type": "code",
      "source": [
        "data['prognosis'].unique()"
      ],
      "metadata": {
        "id": "DstLs7pgmnRF"
      },
      "execution_count": null,
      "outputs": []
    },
    {
      "cell_type": "code",
      "source": [
        "data.isnull().sum()"
      ],
      "metadata": {
        "id": "anNcLq9NoJ4M"
      },
      "execution_count": null,
      "outputs": []
    },
    {
      "cell_type": "code",
      "source": [
        "len(data['prognosis'].unique())"
      ],
      "metadata": {
        "id": "Zz3pW6BZm2rZ"
      },
      "execution_count": null,
      "outputs": []
    },
    {
      "cell_type": "code",
      "source": [
        "# progonosis carry 41 desis so need to encoded"
      ],
      "metadata": {
        "id": "goRmqsLanTQP"
      },
      "execution_count": null,
      "outputs": []
    },
    {
      "cell_type": "code",
      "source": [
        "# train and test data"
      ],
      "metadata": {
        "id": "V_oooc46nkCz"
      },
      "execution_count": null,
      "outputs": []
    },
    {
      "cell_type": "code",
      "source": [
        "from sklearn.model_selection import train_test_split\n",
        "from sklearn.preprocessing import LabelEncoder"
      ],
      "metadata": {
        "id": "BWsDQ4cVoFw5"
      },
      "execution_count": null,
      "outputs": []
    },
    {
      "cell_type": "code",
      "source": [
        "x=data.drop('prognosis',axis=1)\n",
        "y=data['prognosis']"
      ],
      "metadata": {
        "id": "RdfkXq11oqjy"
      },
      "execution_count": null,
      "outputs": []
    },
    {
      "cell_type": "code",
      "source": [
        "y"
      ],
      "metadata": {
        "id": "GxJlivIuqIxC"
      },
      "execution_count": null,
      "outputs": []
    },
    {
      "cell_type": "code",
      "source": [
        "le=LabelEncoder()\n",
        "le.fit(y)\n",
        "y=le.transform(y)\n",
        "# lebel encoder  for this (vertigo) Paroymsal Positional Vertig reagion manage"
      ],
      "metadata": {
        "id": "Zh1X5Ws6qTnG"
      },
      "execution_count": null,
      "outputs": []
    },
    {
      "cell_type": "code",
      "source": [
        "x_train,x_test,y_train,y_test=train_test_split(x,y,test_size=0.3,random_state=20)\n",
        "\n",
        "#@ we do train the 70% and test size is 30%"
      ],
      "metadata": {
        "id": "BRc9ponrpCwq"
      },
      "execution_count": null,
      "outputs": []
    },
    {
      "cell_type": "code",
      "source": [
        "x_train.shape,x_test.shape,y_train.shape,y_test.shape"
      ],
      "metadata": {
        "id": "xAtqq_2hpXtY"
      },
      "execution_count": null,
      "outputs": []
    },
    {
      "cell_type": "code",
      "source": [
        "# training top models"
      ],
      "metadata": {
        "id": "-ScPQ8aZpr9s"
      },
      "execution_count": null,
      "outputs": []
    },
    {
      "cell_type": "code",
      "source": [
        "from sklearn.datasets import make_classification\n",
        "from sklearn.model_selection import train_test_split\n",
        "from sklearn.svm import SVC\n",
        "from sklearn.ensemble import RandomForestClassifier, GradientBoostingClassifier\n",
        "from sklearn.neighbors import KNeighborsClassifier\n",
        "from sklearn.naive_bayes import MultinomialNB\n",
        "from sklearn.metrics import accuracy_score, confusion_matrix\n",
        "import numpy as np\n",
        "\n",
        "\n",
        "\n",
        "# create a dictionary to store moddel\n",
        "models= {\n",
        "    'SVC':SVC(kernel ='linear'),\n",
        "    'RandomForest': RandomForestClassifier(n_estimators=100, random_state=40), # corrected model name\n",
        "    'GradientBoosting': GradientBoostingClassifier(n_estimators=100, random_state=40),\n",
        "    'KNeighbors': KNeighborsClassifier(n_neighbors=5),\n",
        "\n",
        "    'MultinomialNB': MultinomialNB()\n",
        "}\n",
        "# i am traning 5 model at a same time with loop\n",
        "for model_name,model in models.items():# .item gives key and valus\n",
        "    print(model_name,\":\",model)\n",
        "    #train model svc\n",
        "    model.fit(x_train,y_train)\n",
        "    # test or predict model random forest\n",
        "    y_pred=model.predict(x_test)\n",
        "    # calculate accurecy\n",
        "\n",
        "    accuracy=accuracy_score(y_test,y_pred)\n",
        "    # conudion matrix calculate\n",
        "    cm=confusion_matrix(y_test,y_pred)\n",
        "    print(f'{model_name} accuracy:{accuracy}')\n",
        "    print(f'{model_name} confusion matrix:\\n{cm}')\n",
        "    print(np.array2string(cm, separator=','))# cm is array so convert in to string\n",
        "\n",
        "\n",
        "\n"
      ],
      "metadata": {
        "id": "zmjain7Yq5Wu"
      },
      "execution_count": null,
      "outputs": []
    },
    {
      "cell_type": "code",
      "source": [
        "# this confusion matrin is too good"
      ],
      "metadata": {
        "id": "DNOX9bZvrlBw"
      },
      "execution_count": null,
      "outputs": []
    },
    {
      "cell_type": "code",
      "source": [
        "# single prediction\n"
      ],
      "metadata": {
        "id": "_o4Q-g63UhRN"
      },
      "execution_count": null,
      "outputs": []
    },
    {
      "cell_type": "code",
      "source": [
        "svc=SVC(kernel='linear')\n",
        "svc.fit(x_train,y_train)\n",
        "y_pred=svc.predict(x_test)\n",
        "accuracy_score(y_test,y_pred)"
      ],
      "metadata": {
        "id": "BAgpJoiUUlRj"
      },
      "execution_count": null,
      "outputs": []
    },
    {
      "cell_type": "code",
      "source": [
        "# save model in pickle\n",
        "import pickle\n",
        "pickle.dump(svc,open('model_svc.pkl','wb'))"
      ],
      "metadata": {
        "id": "MiF9ZbsVVG-_"
      },
      "execution_count": null,
      "outputs": []
    },
    {
      "cell_type": "code",
      "source": [
        "# load model\n",
        "svc=pickle.load(open('model_svc.pkl','rb'))"
      ],
      "metadata": {
        "id": "acPIFDNIVyRp"
      },
      "execution_count": null,
      "outputs": []
    },
    {
      "cell_type": "code",
      "source": [
        "x_test.iloc[0].values# this is 1d arry so need to convert in 2d ie reshape"
      ],
      "metadata": {
        "id": "IGCySMFoV-LJ"
      },
      "execution_count": null,
      "outputs": []
    },
    {
      "cell_type": "code",
      "source": [
        "x_test.iloc[0].values.reshape(1,-1)# now the data is 2d [[]]"
      ],
      "metadata": {
        "id": "X9SuLwHcWFCD"
      },
      "execution_count": null,
      "outputs": []
    },
    {
      "cell_type": "code",
      "source": [
        "svc.predict(x_test.iloc[0].values.reshape(1,-1))"
      ],
      "metadata": {
        "id": "e9HH3yvzWc5H"
      },
      "execution_count": null,
      "outputs": []
    },
    {
      "cell_type": "code",
      "source": [
        "print('model predicted label :',svc.predict(x_test.iloc[0].values.reshape(1,-1)))\n",
        "print('actual label :',y_test.iloc[0])"
      ],
      "metadata": {
        "id": "SmPe5vyMXK6Y"
      },
      "execution_count": null,
      "outputs": []
    },
    {
      "cell_type": "code",
      "source": [],
      "metadata": {
        "id": "bK2ggllyXBiH"
      },
      "execution_count": null,
      "outputs": []
    }
  ]
}