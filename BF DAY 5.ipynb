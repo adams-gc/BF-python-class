{
 "cells": [
  {
   "cell_type": "markdown",
   "id": "7b8be4fa",
   "metadata": {},
   "source": [
    "# git branch :-list the branch and highlight\n",
    "- git branch < branch_name>:create new branch\n",
    "- git checkout branch  "
   ]
  }
 ],
 "metadata": {
  "kernelspec": {
   "display_name": "Python 3 (ipykernel)",
   "language": "python",
   "name": "python3"
  },
  "language_info": {
   "codemirror_mode": {
    "name": "ipython",
    "version": 3
   },
   "file_extension": ".py",
   "mimetype": "text/x-python",
   "name": "python",
   "nbconvert_exporter": "python",
   "pygments_lexer": "ipython3",
   "version": "3.9.13"
  }
 },
 "nbformat": 4,
 "nbformat_minor": 5
}
