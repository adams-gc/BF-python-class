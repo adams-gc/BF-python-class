{
  "nbformat": 4,
  "nbformat_minor": 0,
  "metadata": {
    "colab": {
      "provenance": [],
      "include_colab_link": true
    },
    "kernelspec": {
      "name": "python3",
      "display_name": "Python 3"
    },
    "language_info": {
      "name": "python"
    }
  },
  "cells": [
    {
      "cell_type": "markdown",
      "metadata": {
        "id": "view-in-github",
        "colab_type": "text"
      },
      "source": [
        "<a href=\"https://colab.research.google.com/github/adams-gc/BF-python-class/blob/main/Text_classification__logistic_regression.ipynb\" target=\"_parent\"><img src=\"https://colab.research.google.com/assets/colab-badge.svg\" alt=\"Open In Colab\"/></a>"
      ]
    },
    {
      "cell_type": "code",
      "execution_count": null,
      "metadata": {
        "colab": {
          "base_uri": "https://localhost:8080/"
        },
        "id": "qvuFMfBs53kk",
        "outputId": "e8084be5-dfe1-4cb2-ad64-cd4d68be02da"
      },
      "outputs": [
        {
          "output_type": "stream",
          "name": "stderr",
          "text": [
            "[nltk_data] Downloading package stopwords to /root/nltk_data...\n",
            "[nltk_data]   Unzipping corpora/stopwords.zip.\n"
          ]
        }
      ],
      "source": [
        "#Importing the packags\n",
        "# pip install --user -U nltk\n",
        "# pip install -U scikit-learn\n",
        "import numpy as np\n",
        "import pandas as pd\n",
        "import re,string\n",
        "import matplotlib.pyplot as plt\n",
        "from nltk.corpus import stopwords\n",
        "from nltk.stem import PorterStemmer\n",
        "from sklearn.feature_extraction.text import TfidfVectorizer\n",
        "from sklearn.pipeline import Pipeline\n",
        "from sklearn.metrics import classification_report, confusion_matrix\n",
        "from sklearn.model_selection import train_test_split\n",
        "from sklearn.feature_selection import SelectKBest, chi2\n",
        "import pickle\n",
        "import nltk\n",
        "nltk.download('stopwords')\n",
        "%matplotlib inline"
      ]
    },
    {
      "cell_type": "markdown",
      "source": [],
      "metadata": {
        "id": "WSmqpMT3onW3"
      }
    },
    {
      "cell_type": "code",
      "source": [
        "df = pd.read_csv('/content/bbc-text.csv', encoding = 'latin1')\n",
        "df = df.sample(frac = 1)\n",
        "df"
      ],
      "metadata": {
        "colab": {
          "base_uri": "https://localhost:8080/",
          "height": 423
        },
        "id": "BAtLnUFL6emp",
        "outputId": "7f638872-ebf9-4554-ef42-5e43a6b8228f"
      },
      "execution_count": null,
      "outputs": [
        {
          "output_type": "execute_result",
          "data": {
            "text/plain": [
              "           category                                               text\n",
              "1951       business  christmas sales worst since 1981 uk retail sal...\n",
              "1642          sport  teenager tait picked for england newcastle s t...\n",
              "250           sport  wenger handed summer war chest arsenal boss ar...\n",
              "1050  entertainment  tough schedule delays elliot show preview perf...\n",
              "505           sport  gallas sees two-horse race chelsea s william g...\n",
              "...             ...                                                ...\n",
              "2073          sport  koubek suspended after drugs test stefan koube...\n",
              "1386          sport  adriano s chelsea link rejected adriano s agen...\n",
              "217           sport  hewitt falls to dent in adelaide lleyton hewit...\n",
              "646            tech  gritty return for prince of persia still baski...\n",
              "143           sport  greene sets sights on world title maurice gree...\n",
              "\n",
              "[2225 rows x 2 columns]"
            ],
            "text/html": [
              "\n",
              "  <div id=\"df-0d34d04e-a0d0-461d-b5c8-b425f6d1236b\" class=\"colab-df-container\">\n",
              "    <div>\n",
              "<style scoped>\n",
              "    .dataframe tbody tr th:only-of-type {\n",
              "        vertical-align: middle;\n",
              "    }\n",
              "\n",
              "    .dataframe tbody tr th {\n",
              "        vertical-align: top;\n",
              "    }\n",
              "\n",
              "    .dataframe thead th {\n",
              "        text-align: right;\n",
              "    }\n",
              "</style>\n",
              "<table border=\"1\" class=\"dataframe\">\n",
              "  <thead>\n",
              "    <tr style=\"text-align: right;\">\n",
              "      <th></th>\n",
              "      <th>category</th>\n",
              "      <th>text</th>\n",
              "    </tr>\n",
              "  </thead>\n",
              "  <tbody>\n",
              "    <tr>\n",
              "      <th>1951</th>\n",
              "      <td>business</td>\n",
              "      <td>christmas sales worst since 1981 uk retail sal...</td>\n",
              "    </tr>\n",
              "    <tr>\n",
              "      <th>1642</th>\n",
              "      <td>sport</td>\n",
              "      <td>teenager tait picked for england newcastle s t...</td>\n",
              "    </tr>\n",
              "    <tr>\n",
              "      <th>250</th>\n",
              "      <td>sport</td>\n",
              "      <td>wenger handed summer war chest arsenal boss ar...</td>\n",
              "    </tr>\n",
              "    <tr>\n",
              "      <th>1050</th>\n",
              "      <td>entertainment</td>\n",
              "      <td>tough schedule delays elliot show preview perf...</td>\n",
              "    </tr>\n",
              "    <tr>\n",
              "      <th>505</th>\n",
              "      <td>sport</td>\n",
              "      <td>gallas sees two-horse race chelsea s william g...</td>\n",
              "    </tr>\n",
              "    <tr>\n",
              "      <th>...</th>\n",
              "      <td>...</td>\n",
              "      <td>...</td>\n",
              "    </tr>\n",
              "    <tr>\n",
              "      <th>2073</th>\n",
              "      <td>sport</td>\n",
              "      <td>koubek suspended after drugs test stefan koube...</td>\n",
              "    </tr>\n",
              "    <tr>\n",
              "      <th>1386</th>\n",
              "      <td>sport</td>\n",
              "      <td>adriano s chelsea link rejected adriano s agen...</td>\n",
              "    </tr>\n",
              "    <tr>\n",
              "      <th>217</th>\n",
              "      <td>sport</td>\n",
              "      <td>hewitt falls to dent in adelaide lleyton hewit...</td>\n",
              "    </tr>\n",
              "    <tr>\n",
              "      <th>646</th>\n",
              "      <td>tech</td>\n",
              "      <td>gritty return for prince of persia still baski...</td>\n",
              "    </tr>\n",
              "    <tr>\n",
              "      <th>143</th>\n",
              "      <td>sport</td>\n",
              "      <td>greene sets sights on world title maurice gree...</td>\n",
              "    </tr>\n",
              "  </tbody>\n",
              "</table>\n",
              "<p>2225 rows × 2 columns</p>\n",
              "</div>\n",
              "    <div class=\"colab-df-buttons\">\n",
              "\n",
              "  <div class=\"colab-df-container\">\n",
              "    <button class=\"colab-df-convert\" onclick=\"convertToInteractive('df-0d34d04e-a0d0-461d-b5c8-b425f6d1236b')\"\n",
              "            title=\"Convert this dataframe to an interactive table.\"\n",
              "            style=\"display:none;\">\n",
              "\n",
              "  <svg xmlns=\"http://www.w3.org/2000/svg\" height=\"24px\" viewBox=\"0 -960 960 960\">\n",
              "    <path d=\"M120-120v-720h720v720H120Zm60-500h600v-160H180v160Zm220 220h160v-160H400v160Zm0 220h160v-160H400v160ZM180-400h160v-160H180v160Zm440 0h160v-160H620v160ZM180-180h160v-160H180v160Zm440 0h160v-160H620v160Z\"/>\n",
              "  </svg>\n",
              "    </button>\n",
              "\n",
              "  <style>\n",
              "    .colab-df-container {\n",
              "      display:flex;\n",
              "      gap: 12px;\n",
              "    }\n",
              "\n",
              "    .colab-df-convert {\n",
              "      background-color: #E8F0FE;\n",
              "      border: none;\n",
              "      border-radius: 50%;\n",
              "      cursor: pointer;\n",
              "      display: none;\n",
              "      fill: #1967D2;\n",
              "      height: 32px;\n",
              "      padding: 0 0 0 0;\n",
              "      width: 32px;\n",
              "    }\n",
              "\n",
              "    .colab-df-convert:hover {\n",
              "      background-color: #E2EBFA;\n",
              "      box-shadow: 0px 1px 2px rgba(60, 64, 67, 0.3), 0px 1px 3px 1px rgba(60, 64, 67, 0.15);\n",
              "      fill: #174EA6;\n",
              "    }\n",
              "\n",
              "    .colab-df-buttons div {\n",
              "      margin-bottom: 4px;\n",
              "    }\n",
              "\n",
              "    [theme=dark] .colab-df-convert {\n",
              "      background-color: #3B4455;\n",
              "      fill: #D2E3FC;\n",
              "    }\n",
              "\n",
              "    [theme=dark] .colab-df-convert:hover {\n",
              "      background-color: #434B5C;\n",
              "      box-shadow: 0px 1px 3px 1px rgba(0, 0, 0, 0.15);\n",
              "      filter: drop-shadow(0px 1px 2px rgba(0, 0, 0, 0.3));\n",
              "      fill: #FFFFFF;\n",
              "    }\n",
              "  </style>\n",
              "\n",
              "    <script>\n",
              "      const buttonEl =\n",
              "        document.querySelector('#df-0d34d04e-a0d0-461d-b5c8-b425f6d1236b button.colab-df-convert');\n",
              "      buttonEl.style.display =\n",
              "        google.colab.kernel.accessAllowed ? 'block' : 'none';\n",
              "\n",
              "      async function convertToInteractive(key) {\n",
              "        const element = document.querySelector('#df-0d34d04e-a0d0-461d-b5c8-b425f6d1236b');\n",
              "        const dataTable =\n",
              "          await google.colab.kernel.invokeFunction('convertToInteractive',\n",
              "                                                    [key], {});\n",
              "        if (!dataTable) return;\n",
              "\n",
              "        const docLinkHtml = 'Like what you see? Visit the ' +\n",
              "          '<a target=\"_blank\" href=https://colab.research.google.com/notebooks/data_table.ipynb>data table notebook</a>'\n",
              "          + ' to learn more about interactive tables.';\n",
              "        element.innerHTML = '';\n",
              "        dataTable['output_type'] = 'display_data';\n",
              "        await google.colab.output.renderOutput(dataTable, element);\n",
              "        const docLink = document.createElement('div');\n",
              "        docLink.innerHTML = docLinkHtml;\n",
              "        element.appendChild(docLink);\n",
              "      }\n",
              "    </script>\n",
              "  </div>\n",
              "\n",
              "\n",
              "<div id=\"df-3928c265-addc-43a3-8d57-19a99bf607b3\">\n",
              "  <button class=\"colab-df-quickchart\" onclick=\"quickchart('df-3928c265-addc-43a3-8d57-19a99bf607b3')\"\n",
              "            title=\"Suggest charts\"\n",
              "            style=\"display:none;\">\n",
              "\n",
              "<svg xmlns=\"http://www.w3.org/2000/svg\" height=\"24px\"viewBox=\"0 0 24 24\"\n",
              "     width=\"24px\">\n",
              "    <g>\n",
              "        <path d=\"M19 3H5c-1.1 0-2 .9-2 2v14c0 1.1.9 2 2 2h14c1.1 0 2-.9 2-2V5c0-1.1-.9-2-2-2zM9 17H7v-7h2v7zm4 0h-2V7h2v10zm4 0h-2v-4h2v4z\"/>\n",
              "    </g>\n",
              "</svg>\n",
              "  </button>\n",
              "\n",
              "<style>\n",
              "  .colab-df-quickchart {\n",
              "      --bg-color: #E8F0FE;\n",
              "      --fill-color: #1967D2;\n",
              "      --hover-bg-color: #E2EBFA;\n",
              "      --hover-fill-color: #174EA6;\n",
              "      --disabled-fill-color: #AAA;\n",
              "      --disabled-bg-color: #DDD;\n",
              "  }\n",
              "\n",
              "  [theme=dark] .colab-df-quickchart {\n",
              "      --bg-color: #3B4455;\n",
              "      --fill-color: #D2E3FC;\n",
              "      --hover-bg-color: #434B5C;\n",
              "      --hover-fill-color: #FFFFFF;\n",
              "      --disabled-bg-color: #3B4455;\n",
              "      --disabled-fill-color: #666;\n",
              "  }\n",
              "\n",
              "  .colab-df-quickchart {\n",
              "    background-color: var(--bg-color);\n",
              "    border: none;\n",
              "    border-radius: 50%;\n",
              "    cursor: pointer;\n",
              "    display: none;\n",
              "    fill: var(--fill-color);\n",
              "    height: 32px;\n",
              "    padding: 0;\n",
              "    width: 32px;\n",
              "  }\n",
              "\n",
              "  .colab-df-quickchart:hover {\n",
              "    background-color: var(--hover-bg-color);\n",
              "    box-shadow: 0 1px 2px rgba(60, 64, 67, 0.3), 0 1px 3px 1px rgba(60, 64, 67, 0.15);\n",
              "    fill: var(--button-hover-fill-color);\n",
              "  }\n",
              "\n",
              "  .colab-df-quickchart-complete:disabled,\n",
              "  .colab-df-quickchart-complete:disabled:hover {\n",
              "    background-color: var(--disabled-bg-color);\n",
              "    fill: var(--disabled-fill-color);\n",
              "    box-shadow: none;\n",
              "  }\n",
              "\n",
              "  .colab-df-spinner {\n",
              "    border: 2px solid var(--fill-color);\n",
              "    border-color: transparent;\n",
              "    border-bottom-color: var(--fill-color);\n",
              "    animation:\n",
              "      spin 1s steps(1) infinite;\n",
              "  }\n",
              "\n",
              "  @keyframes spin {\n",
              "    0% {\n",
              "      border-color: transparent;\n",
              "      border-bottom-color: var(--fill-color);\n",
              "      border-left-color: var(--fill-color);\n",
              "    }\n",
              "    20% {\n",
              "      border-color: transparent;\n",
              "      border-left-color: var(--fill-color);\n",
              "      border-top-color: var(--fill-color);\n",
              "    }\n",
              "    30% {\n",
              "      border-color: transparent;\n",
              "      border-left-color: var(--fill-color);\n",
              "      border-top-color: var(--fill-color);\n",
              "      border-right-color: var(--fill-color);\n",
              "    }\n",
              "    40% {\n",
              "      border-color: transparent;\n",
              "      border-right-color: var(--fill-color);\n",
              "      border-top-color: var(--fill-color);\n",
              "    }\n",
              "    60% {\n",
              "      border-color: transparent;\n",
              "      border-right-color: var(--fill-color);\n",
              "    }\n",
              "    80% {\n",
              "      border-color: transparent;\n",
              "      border-right-color: var(--fill-color);\n",
              "      border-bottom-color: var(--fill-color);\n",
              "    }\n",
              "    90% {\n",
              "      border-color: transparent;\n",
              "      border-bottom-color: var(--fill-color);\n",
              "    }\n",
              "  }\n",
              "</style>\n",
              "\n",
              "  <script>\n",
              "    async function quickchart(key) {\n",
              "      const quickchartButtonEl =\n",
              "        document.querySelector('#' + key + ' button');\n",
              "      quickchartButtonEl.disabled = true;  // To prevent multiple clicks.\n",
              "      quickchartButtonEl.classList.add('colab-df-spinner');\n",
              "      try {\n",
              "        const charts = await google.colab.kernel.invokeFunction(\n",
              "            'suggestCharts', [key], {});\n",
              "      } catch (error) {\n",
              "        console.error('Error during call to suggestCharts:', error);\n",
              "      }\n",
              "      quickchartButtonEl.classList.remove('colab-df-spinner');\n",
              "      quickchartButtonEl.classList.add('colab-df-quickchart-complete');\n",
              "    }\n",
              "    (() => {\n",
              "      let quickchartButtonEl =\n",
              "        document.querySelector('#df-3928c265-addc-43a3-8d57-19a99bf607b3 button');\n",
              "      quickchartButtonEl.style.display =\n",
              "        google.colab.kernel.accessAllowed ? 'block' : 'none';\n",
              "    })();\n",
              "  </script>\n",
              "</div>\n",
              "\n",
              "  <div id=\"id_19f6a3c3-76ac-457d-a849-31c2d87b96ec\">\n",
              "    <style>\n",
              "      .colab-df-generate {\n",
              "        background-color: #E8F0FE;\n",
              "        border: none;\n",
              "        border-radius: 50%;\n",
              "        cursor: pointer;\n",
              "        display: none;\n",
              "        fill: #1967D2;\n",
              "        height: 32px;\n",
              "        padding: 0 0 0 0;\n",
              "        width: 32px;\n",
              "      }\n",
              "\n",
              "      .colab-df-generate:hover {\n",
              "        background-color: #E2EBFA;\n",
              "        box-shadow: 0px 1px 2px rgba(60, 64, 67, 0.3), 0px 1px 3px 1px rgba(60, 64, 67, 0.15);\n",
              "        fill: #174EA6;\n",
              "      }\n",
              "\n",
              "      [theme=dark] .colab-df-generate {\n",
              "        background-color: #3B4455;\n",
              "        fill: #D2E3FC;\n",
              "      }\n",
              "\n",
              "      [theme=dark] .colab-df-generate:hover {\n",
              "        background-color: #434B5C;\n",
              "        box-shadow: 0px 1px 3px 1px rgba(0, 0, 0, 0.15);\n",
              "        filter: drop-shadow(0px 1px 2px rgba(0, 0, 0, 0.3));\n",
              "        fill: #FFFFFF;\n",
              "      }\n",
              "    </style>\n",
              "    <button class=\"colab-df-generate\" onclick=\"generateWithVariable('df')\"\n",
              "            title=\"Generate code using this dataframe.\"\n",
              "            style=\"display:none;\">\n",
              "\n",
              "  <svg xmlns=\"http://www.w3.org/2000/svg\" height=\"24px\"viewBox=\"0 0 24 24\"\n",
              "       width=\"24px\">\n",
              "    <path d=\"M7,19H8.4L18.45,9,17,7.55,7,17.6ZM5,21V16.75L18.45,3.32a2,2,0,0,1,2.83,0l1.4,1.43a1.91,1.91,0,0,1,.58,1.4,1.91,1.91,0,0,1-.58,1.4L9.25,21ZM18.45,9,17,7.55Zm-12,3A5.31,5.31,0,0,0,4.9,8.1,5.31,5.31,0,0,0,1,6.5,5.31,5.31,0,0,0,4.9,4.9,5.31,5.31,0,0,0,6.5,1,5.31,5.31,0,0,0,8.1,4.9,5.31,5.31,0,0,0,12,6.5,5.46,5.46,0,0,0,6.5,12Z\"/>\n",
              "  </svg>\n",
              "    </button>\n",
              "    <script>\n",
              "      (() => {\n",
              "      const buttonEl =\n",
              "        document.querySelector('#id_19f6a3c3-76ac-457d-a849-31c2d87b96ec button.colab-df-generate');\n",
              "      buttonEl.style.display =\n",
              "        google.colab.kernel.accessAllowed ? 'block' : 'none';\n",
              "\n",
              "      buttonEl.onclick = () => {\n",
              "        google.colab.notebook.generateWithVariable('df');\n",
              "      }\n",
              "      })();\n",
              "    </script>\n",
              "  </div>\n",
              "\n",
              "    </div>\n",
              "  </div>\n"
            ],
            "application/vnd.google.colaboratory.intrinsic+json": {
              "type": "dataframe",
              "variable_name": "df",
              "summary": "{\n  \"name\": \"df\",\n  \"rows\": 2225,\n  \"fields\": [\n    {\n      \"column\": \"category\",\n      \"properties\": {\n        \"dtype\": \"category\",\n        \"num_unique_values\": 5,\n        \"samples\": [\n          \"sport\",\n          \"tech\",\n          \"entertainment\"\n        ],\n        \"semantic_type\": \"\",\n        \"description\": \"\"\n      }\n    },\n    {\n      \"column\": \"text\",\n      \"properties\": {\n        \"dtype\": \"string\",\n        \"num_unique_values\": 2126,\n        \"samples\": [\n          \"artists  secret postcards on sale postcards by artists including damien hirst and tracey emin have sold just hours after the opening of the royal academy of arts annual secrets sale.  the identity of the artist remains unknown until each work is bought and the signature is revealed on the back.  there are still some big names left  such as mario testino   said rca spokeswoman sue bradburn. all postcards are priced at \\u00c2\\u00a335. the sale opened at 8am on friday and will close at 6pm on saturday. ms bradburn said there was a big queue at the start of the sale but it had now gone down.  she said the people that had bought the famous name postcards had arrived early and had spent time studying each work.  they would have known what to look for.  the exhibition has been open for viewing since 19 november. film director ken loach  fashion designer hussein chalayan and former blur guitarist graham coxon have all designed postcards for the sale. some of the contributing artists are students or recent graduates of the royal college of art and other leading art colleges. money raised from the sale will go towards the rca s fine art student award fund which supports students with grants and bursaries. the famous sale is now in its 11th year.\",\n          \"prime minister s questions so who  if anyone  is playing politics with the security of the nation   michael howard has no doubt it is the prime minister who  he claims  is  ramming  through parliament the controversial new anti-terror measures without proper debate. he didn t say so  but the tories believe the prime minister is playing the fear card on this one so he can look tough in the run up to the general election and they believe tony blair is using the issue to suggest the tories are soft on terrorism. why on earth will the prime minister not simply take up the tories  offer to extend the existing powers temporarily to allow proper parliamentary debate of the laws  he demanded. the prime minister claims this is the clearest indication that it is the tories who are playing politics with the issue by attempting to score cheap political points in parliament. is not the opposition against to the proposed laws  in principle   in which case delaying a decision for further debate would be pointless   what this is really about  believes mr blair  is the tories spotting an opportunity to embarrass  maybe even defeat the government. and that is more important to them than national security. liberal democrat leader charles kennedy avoided suggesting anyone was playing politics with the issue. he preferred to state that  as with other issues like id cards  the government s immediate instinct was authoritarian.  as is his habit nowadays  the prime minister was less rough with mr kennedy than he had been with mr howard - he prefers a more exasperated tone suggesting he believes the lib dems have  once again  just missed the point. apart from all that  it was electioneering as usual. the very first question to the prime minister from derby north s bob laxton asked him  in effect  if he would carry on the excellent policy of pouring more resources into schools. later birmingham s sion simon even went so far as to suggest the tories were such a shower that we should have the general election now. the prime minister almost blushed. this was not the appropriate place to announce election day  he stammered. but can anyone be in any doubt that that announcement is just days away - an announcement coming in the week beginning 4 april for an election on 5 may is where the big money is in the commons. and perhaps that simple fact alone means everyone is seen to be playing politics with just about everything at the moment.\",\n          \"levy takes whitbread novel prize orange prize winner andrea levy has seen her book small island win the whitbread novel of the year award.  she is now favourite to win the overall prize after beating booker winner alan hollinghurst s the line of beauty. geraldine mccaughrean has picked up the children s fiction award for the third time for not the end of the world. all the category winners go through to compete for the whitbread book of the year title  which carries with it a \\u00c2\\u00a325 000 prize. a panel of judges including sir trevor mcdonald  actor hugh grant and writer joanne harris will meet up on 25 january to decide the overall winner  with the announcement being made later that evening.  bookmaker william hill has placed london-based levy s novel as the 6/4 favourite to win.  small island  levy s fourth novel  is set in post-war england and centres on a landlady and her lodgers. one is a jamaican who joined british troops to fight hitler but finds life difficult out of uniform when he settles in london. the judges  who included authors jenny colgan and amanda craig  were full of praise for her writing.  what could have been a didactic or preachy prospect turns out to hilarious  moving humane and eye-popping. it s hard to think of anybody not enjoying it   wrote the judges. the first novel section was won by susan fletcher for eve green  beating the favourite jonathan strange and mr norrell by susanna clarke. fletcher has recently graduated from graduated from the university of east anglia creative writing course. waterstone s fiction writer buyer suzie doore said:  it is great to see susan fletcher win in the first novel category. as a relatively unknown author this award will give her exposure to a wider and mass audience that she may not have reached and is a perfect example of the influence of the whitbread.  fresh out of university she is certainly one to watch.   in the biography category it was john guy s the life of mary queen of scots that was picked as winner. the judges called it  an impressive and readable piece of scholarship  which cannot fail but leave the reader moved and intrigued by this most tragic and likeable of queens . guy has published many histories  including tudor england. he is a fellow at clare college  cambridge and became a honorary research professor of the university of st andrews in 2003. michael symmons roberts  fourth collection of poems scooped the poetry award. his works mixes mysticism  erotica and philosophy through life  death and resurrection. as well as writing poetry  symmons roberts also makes documentary films. children s winner mccaughrean  who went into magazine publishing after studying teaching  previously won the whitbread prize in 1987 with a little lower than angels and in 1994 with gold dust. she has previously been the winner of the blue peter book of the year.\"\n        ],\n        \"semantic_type\": \"\",\n        \"description\": \"\"\n      }\n    }\n  ]\n}"
            }
          },
          "metadata": {},
          "execution_count": 2
        }
      ]
    },
    {
      "cell_type": "code",
      "source": [
        "df.isnull().sum()"
      ],
      "metadata": {
        "id": "uiltJqxta5Ep",
        "outputId": "d56952e5-30b9-49f0-cbab-10ccdcdcae34",
        "colab": {
          "base_uri": "https://localhost:8080/",
          "height": 178
        }
      },
      "execution_count": 30,
      "outputs": [
        {
          "output_type": "execute_result",
          "data": {
            "text/plain": [
              "category    0\n",
              "text        0\n",
              "cleaned     0\n",
              "dtype: int64"
            ],
            "text/html": [
              "<div>\n",
              "<style scoped>\n",
              "    .dataframe tbody tr th:only-of-type {\n",
              "        vertical-align: middle;\n",
              "    }\n",
              "\n",
              "    .dataframe tbody tr th {\n",
              "        vertical-align: top;\n",
              "    }\n",
              "\n",
              "    .dataframe thead th {\n",
              "        text-align: right;\n",
              "    }\n",
              "</style>\n",
              "<table border=\"1\" class=\"dataframe\">\n",
              "  <thead>\n",
              "    <tr style=\"text-align: right;\">\n",
              "      <th></th>\n",
              "      <th>0</th>\n",
              "    </tr>\n",
              "  </thead>\n",
              "  <tbody>\n",
              "    <tr>\n",
              "      <th>category</th>\n",
              "      <td>0</td>\n",
              "    </tr>\n",
              "    <tr>\n",
              "      <th>text</th>\n",
              "      <td>0</td>\n",
              "    </tr>\n",
              "    <tr>\n",
              "      <th>cleaned</th>\n",
              "      <td>0</td>\n",
              "    </tr>\n",
              "  </tbody>\n",
              "</table>\n",
              "</div><br><label><b>dtype:</b> int64</label>"
            ]
          },
          "metadata": {},
          "execution_count": 30
        }
      ]
    },
    {
      "cell_type": "code",
      "source": [
        "#No of a categories\n",
        "len(set(df['category']))"
      ],
      "metadata": {
        "colab": {
          "base_uri": "https://localhost:8080/"
        },
        "id": "G7c8rULu8LQZ",
        "outputId": "3df7d775-3993-4491-89eb-254a78401893"
      },
      "execution_count": null,
      "outputs": [
        {
          "output_type": "execute_result",
          "data": {
            "text/plain": [
              "5"
            ]
          },
          "metadata": {},
          "execution_count": 3
        }
      ]
    },
    {
      "cell_type": "code",
      "source": [
        "df.groupby('category').category.count()"
      ],
      "metadata": {
        "colab": {
          "base_uri": "https://localhost:8080/",
          "height": 272
        },
        "id": "833043k1zE5O",
        "outputId": "c6c7f714-f65d-4c9d-e2a7-8e1b20fa430b"
      },
      "execution_count": null,
      "outputs": [
        {
          "output_type": "execute_result",
          "data": {
            "text/plain": [
              "category\n",
              "business         510\n",
              "entertainment    386\n",
              "politics         417\n",
              "sport            511\n",
              "tech             401\n",
              "Name: category, dtype: int64"
            ],
            "text/html": [
              "<div>\n",
              "<style scoped>\n",
              "    .dataframe tbody tr th:only-of-type {\n",
              "        vertical-align: middle;\n",
              "    }\n",
              "\n",
              "    .dataframe tbody tr th {\n",
              "        vertical-align: top;\n",
              "    }\n",
              "\n",
              "    .dataframe thead th {\n",
              "        text-align: right;\n",
              "    }\n",
              "</style>\n",
              "<table border=\"1\" class=\"dataframe\">\n",
              "  <thead>\n",
              "    <tr style=\"text-align: right;\">\n",
              "      <th></th>\n",
              "      <th>category</th>\n",
              "    </tr>\n",
              "    <tr>\n",
              "      <th>category</th>\n",
              "      <th></th>\n",
              "    </tr>\n",
              "  </thead>\n",
              "  <tbody>\n",
              "    <tr>\n",
              "      <th>business</th>\n",
              "      <td>510</td>\n",
              "    </tr>\n",
              "    <tr>\n",
              "      <th>entertainment</th>\n",
              "      <td>386</td>\n",
              "    </tr>\n",
              "    <tr>\n",
              "      <th>politics</th>\n",
              "      <td>417</td>\n",
              "    </tr>\n",
              "    <tr>\n",
              "      <th>sport</th>\n",
              "      <td>511</td>\n",
              "    </tr>\n",
              "    <tr>\n",
              "      <th>tech</th>\n",
              "      <td>401</td>\n",
              "    </tr>\n",
              "  </tbody>\n",
              "</table>\n",
              "</div><br><label><b>dtype:</b> int64</label>"
            ]
          },
          "metadata": {},
          "execution_count": 4
        }
      ]
    },
    {
      "cell_type": "code",
      "source": [
        "#Analyzing data\n",
        "df.groupby('category').category.count().plot.bar()\n",
        "plt.show()"
      ],
      "metadata": {
        "colab": {
          "base_uri": "https://localhost:8080/",
          "height": 535
        },
        "id": "PadVAxI17lgb",
        "outputId": "f785e7b3-6c0f-443c-ac62-0310de59d1ff"
      },
      "execution_count": null,
      "outputs": [
        {
          "output_type": "display_data",
          "data": {
            "text/plain": [
              "<Figure size 640x480 with 1 Axes>"
            ],
            "image/png": "[encoded data removed]"
          },
          "metadata": {}
        }
      ]
    },
    {
      "cell_type": "code",
      "source": [
        "len(df['text'][0].split())"
      ],
      "metadata": {
        "colab": {
          "base_uri": "https://localhost:8080/"
        },
        "id": "HqI_Kjb71HRa",
        "outputId": "e69bd7e7-3c0a-4551-8ba0-c59e5a9ee82e"
      },
      "execution_count": null,
      "outputs": [
        {
          "output_type": "execute_result",
          "data": {
            "text/plain": [
              "737"
            ]
          },
          "metadata": {},
          "execution_count": 6
        }
      ]
    },
    {
      "cell_type": "code",
      "source": [
        "#Data Preprocessing"
      ],
      "metadata": {
        "id": "c43wlqTvuf8z"
      },
      "execution_count": null,
      "outputs": []
    },
    {
      "cell_type": "code",
      "source": [
        "data = [re.sub(\"[^a-zA-Z]\", \" \", i).lower() for i in df['text'].iloc[0:1]]\n",
        "data"
      ],
      "metadata": {
        "id": "ugCn7fzTh-pY",
        "colab": {
          "base_uri": "https://localhost:8080/"
        },
        "outputId": "1e00d02f-e246-4df8-e0d0-1beb54bb6a56"
      },
      "execution_count": null,
      "outputs": [
        {
          "output_type": "execute_result",
          "data": {
            "text/plain": [
              "['christmas sales worst since      uk retail sales fell in december  failing to meet expectations and making it by some counts the worst christmas since        retail sales dropped by    on the month in december  after a      rise in november  the office for national statistics  ons  said  the ons revised the annual      rate of growth down from the      estimated in november to       a number of retailers have already reported poor figures for december  clothing retailers and non specialist stores were the worst hit with only internet retailers showing any significant growth  according to the ons   the last time retailers endured a tougher christmas was    years previously  when sales plunged        the ons echoed an earlier caution from bank of england governor mervyn king not to read too much into the poor december figures  some analysts put a positive gloss on the figures  pointing out that the non seasonally adjusted figures showed a performance comparable with       the november december jump last year was roughly comparable with recent averages  although some way below the serious booms seen in the     s  and figures for retail volume outperformed measures of actual spending  an indication that consumers are looking for bargains  and retailers are cutting their prices   however  reports from some high street retailers highlight the weakness of the sector  morrisons  woolworths  house of fraser  marks   spencer and big food all said that the festive period was disappointing   and a british retail consortium survey found that christmas      was the worst for    years  yet  other retailers   including hmv  monsoon  jessops  body shop and tesco   reported that festive sales were well up on last year  investec chief economist philip shaw said he did not expect the poor retail figures to have any immediate effect on interest rates   the retail sales figures are very weak  but as bank of england governor mervyn king indicated last night  you don t really get an accurate impression of christmas trading until about easter   said mr shaw   our view is the bank of england will keep its powder dry and wait to see the big picture ']"
            ]
          },
          "metadata": {},
          "execution_count": 8
        }
      ]
    },
    {
      "cell_type": "code",
      "source": [
        "re.sub(\"[^a-zA-Z]\", \" \", \"Hello World.\")"
      ],
      "metadata": {
        "colab": {
          "base_uri": "https://localhost:8080/",
          "height": 36
        },
        "id": "iOZaj8K7zQD6",
        "outputId": "12c1d2b9-fbee-4c8b-f5f2-28ca4ebf37cc"
      },
      "execution_count": null,
      "outputs": [
        {
          "output_type": "execute_result",
          "data": {
            "text/plain": [
              "'Hello World '"
            ],
            "application/vnd.google.colaboratory.intrinsic+json": {
              "type": "string"
            }
          },
          "metadata": {},
          "execution_count": 9
        }
      ]
    },
    {
      "cell_type": "code",
      "source": [
        "#stop words\n",
        "nltk.download('stopwords')\n",
        "words = stopwords.words(\"english\")\n",
        "print(words)"
      ],
      "metadata": {
        "colab": {
          "base_uri": "https://localhost:8080/"
        },
        "id": "7RDOg2Vcz0w_",
        "outputId": "adb7f40c-64f0-43bd-b347-e95491909c53"
      },
      "execution_count": null,
      "outputs": [
        {
          "output_type": "stream",
          "name": "stdout",
          "text": [
            "['i', 'me', 'my', 'myself', 'we', 'our', 'ours', 'ourselves', 'you', \"you're\", \"you've\", \"you'll\", \"you'd\", 'your', 'yours', 'yourself', 'yourselves', 'he', 'him', 'his', 'himself', 'she', \"she's\", 'her', 'hers', 'herself', 'it', \"it's\", 'its', 'itself', 'they', 'them', 'their', 'theirs', 'themselves', 'what', 'which', 'who', 'whom', 'this', 'that', \"that'll\", 'these', 'those', 'am', 'is', 'are', 'was', 'were', 'be', 'been', 'being', 'have', 'has', 'had', 'having', 'do', 'does', 'did', 'doing', 'a', 'an', 'the', 'and', 'but', 'if', 'or', 'because', 'as', 'until', 'while', 'of', 'at', 'by', 'for', 'with', 'about', 'against', 'between', 'into', 'through', 'during', 'before', 'after', 'above', 'below', 'to', 'from', 'up', 'down', 'in', 'out', 'on', 'off', 'over', 'under', 'again', 'further', 'then', 'once', 'here', 'there', 'when', 'where', 'why', 'how', 'all', 'any', 'both', 'each', 'few', 'more', 'most', 'other', 'some', 'such', 'no', 'nor', 'not', 'only', 'own', 'same', 'so', 'than', 'too', 'very', 's', 't', 'can', 'will', 'just', 'don', \"don't\", 'should', \"should've\", 'now', 'd', 'll', 'm', 'o', 're', 've', 'y', 'ain', 'aren', \"aren't\", 'couldn', \"couldn't\", 'didn', \"didn't\", 'doesn', \"doesn't\", 'hadn', \"hadn't\", 'hasn', \"hasn't\", 'haven', \"haven't\", 'isn', \"isn't\", 'ma', 'mightn', \"mightn't\", 'mustn', \"mustn't\", 'needn', \"needn't\", 'shan', \"shan't\", 'shouldn', \"shouldn't\", 'wasn', \"wasn't\", 'weren', \"weren't\", 'won', \"won't\", 'wouldn', \"wouldn't\"]\n"
          ]
        },
        {
          "output_type": "stream",
          "name": "stderr",
          "text": [
            "[nltk_data] Downloading package stopwords to /root/nltk_data...\n",
            "[nltk_data]   Package stopwords is already up-to-date!\n"
          ]
        }
      ]
    },
    {
      "cell_type": "code",
      "source": [
        "# Data Cleaning using stemmer\n",
        "\n",
        "stemmer = PorterStemmer()\n",
        "data = \"I am loving computing I have a Computer\".split()\n",
        "# \" \".join([stemmer.stem(i) for i in data])\n",
        "# stemmer.stem(\"\")\n",
        "data"
      ],
      "metadata": {
        "id": "bQU9V9SN1yUy",
        "colab": {
          "base_uri": "https://localhost:8080/"
        },
        "outputId": "98536ab4-da7c-4c38-9dc1-2d27e26f61da"
      },
      "execution_count": null,
      "outputs": [
        {
          "output_type": "execute_result",
          "data": {
            "text/plain": [
              "['I', 'am', 'loving', 'computing', 'I', 'have', 'a', 'Computer']"
            ]
          },
          "metadata": {},
          "execution_count": 11
        }
      ]
    },
    {
      "cell_type": "code",
      "source": [
        "for i in data:\n",
        "  print(stemmer.stem(i))"
      ],
      "metadata": {
        "colab": {
          "base_uri": "https://localhost:8080/"
        },
        "id": "VOuUgQ0_wNe7",
        "outputId": "6e035fba-bb78-40a4-d9c4-ae85800fe254"
      },
      "execution_count": null,
      "outputs": [
        {
          "output_type": "stream",
          "name": "stdout",
          "text": [
            "i\n",
            "am\n",
            "love\n",
            "comput\n",
            "i\n",
            "have\n",
            "a\n",
            "comput\n"
          ]
        }
      ]
    },
    {
      "cell_type": "code",
      "source": [
        "data = \"I am loving computing\".split()\n",
        "\" \".join([stemmer.stem(i) for i in data])\n",
        "# stemmer.stem(\"I am loving computing\")"
      ],
      "metadata": {
        "colab": {
          "base_uri": "https://localhost:8080/",
          "height": 36
        },
        "id": "wO_YX5I8Y4Ji",
        "outputId": "8cb9e340-b27c-40fe-f476-534e3b3806a2"
      },
      "execution_count": null,
      "outputs": [
        {
          "output_type": "execute_result",
          "data": {
            "text/plain": [
              "'i am love comput'"
            ],
            "application/vnd.google.colaboratory.intrinsic+json": {
              "type": "string"
            }
          },
          "metadata": {},
          "execution_count": 13
        }
      ]
    },
    {
      "cell_type": "code",
      "source": [
        "# Data Cleaning removing stopwords"
      ],
      "metadata": {
        "id": "mZPU9uU5fr2I"
      },
      "execution_count": null,
      "outputs": []
    },
    {
      "cell_type": "code",
      "source": [
        "news = ''\n",
        "data = \"I am loving computing I have a Computer\".lower().split()\n",
        "for i in data:\n",
        "  if i not in words:\n",
        "    news = news + \" \" +i\n",
        "news\n",
        "  # print(i)"
      ],
      "metadata": {
        "colab": {
          "base_uri": "https://localhost:8080/",
          "height": 36
        },
        "id": "nsXVZKSiakhv",
        "outputId": "cbc05597-b59c-4cea-bb7f-41f3c2a3a6a6"
      },
      "execution_count": null,
      "outputs": [
        {
          "output_type": "execute_result",
          "data": {
            "text/plain": [
              "' loving computing computer'"
            ],
            "application/vnd.google.colaboratory.intrinsic+json": {
              "type": "string"
            }
          },
          "metadata": {},
          "execution_count": 15
        }
      ]
    },
    {
      "cell_type": "code",
      "source": [
        "df['text'][0]"
      ],
      "metadata": {
        "colab": {
          "base_uri": "https://localhost:8080/",
          "height": 140
        },
        "id": "jbzAnVHd4pfD",
        "outputId": "07a5c04d-69c9-41fd-bdf3-a078bb915621"
      },
      "execution_count": null,
      "outputs": [
        {
          "output_type": "execute_result",
          "data": {
            "text/plain": [
              "'tv future in the hands of viewers with home theatre systems  plasma high-definition tvs  and digital video recorders moving into the living room  the way people watch tv will be radically different in five years  time.  that is according to an expert panel which gathered at the annual consumer electronics show in las vegas to discuss how these new technologies will impact one of our favourite pastimes. with the us leading the trend  programmes and other content will be delivered to viewers via home networks  through cable  satellite  telecoms companies  and broadband service providers to front rooms and portable devices.  one of the most talked-about technologies of ces has been digital and personal video recorders (dvr and pvr). these set-top boxes  like the us s tivo and the uk s sky+ system  allow people to record  store  play  pause and forward wind tv programmes when they want.  essentially  the technology allows for much more personalised tv. they are also being built-in to high-definition tv sets  which are big business in japan and the us  but slower to take off in europe because of the lack of high-definition programming. not only can people forward wind through adverts  they can also forget about abiding by network and channel schedules  putting together their own a-la-carte entertainment. but some us networks and cable and satellite companies are worried about what it means for them in terms of advertising revenues as well as  brand identity  and viewer loyalty to channels. although the us leads in this technology at the moment  it is also a concern that is being raised in europe  particularly with the growing uptake of services like sky+.  what happens here today  we will see in nine months to a years  time in the uk   adam hume  the bbc broadcast s futurologist told the bbc news website. for the likes of the bbc  there are no issues of lost advertising revenue yet. it is a more pressing issue at the moment for commercial uk broadcasters  but brand loyalty is important for everyone.  we will be talking more about content brands rather than network brands   said tim hanlon  from brand communications firm starcom mediavest.  the reality is that with broadband connections  anybody can be the producer of content.  he added:  the challenge now is that it is hard to promote a programme with so much choice.   what this means  said stacey jolna  senior vice president of tv guide tv group  is that the way people find the content they want to watch has to be simplified for tv viewers. it means that networks  in us terms  or channels could take a leaf out of google s book and be the search engine of the future  instead of the scheduler to help people find what they want to watch. this kind of channel model might work for the younger ipod generation which is used to taking control of their gadgets and what they play on them. but it might not suit everyone  the panel recognised. older generations are more comfortable with familiar schedules and channel brands because they know what they are getting. they perhaps do not want so much of the choice put into their hands  mr hanlon suggested.  on the other end  you have the kids just out of diapers who are pushing buttons already - everything is possible and available to them   said mr hanlon.  ultimately  the consumer will tell the market they want.   of the 50 000 new gadgets and technologies being showcased at ces  many of them are about enhancing the tv-watching experience. high-definition tv sets are everywhere and many new models of lcd (liquid crystal display) tvs have been launched with dvr capability built into them  instead of being external boxes. one such example launched at the show is humax s 26-inch lcd tv with an 80-hour tivo dvr and dvd recorder. one of the us s biggest satellite tv companies  directtv  has even launched its own branded dvr at the show with 100-hours of recording capability  instant replay  and a search function. the set can pause and rewind tv for up to 90 hours. and microsoft chief bill gates announced in his pre-show keynote speech a partnership with tivo  called tivotogo  which means people can play recorded programmes on windows pcs and mobile devices. all these reflect the increasing trend of freeing up multimedia so that people can watch what they want  when they want.'"
            ],
            "application/vnd.google.colaboratory.intrinsic+json": {
              "type": "string"
            }
          },
          "metadata": {},
          "execution_count": 16
        }
      ]
    },
    {
      "cell_type": "code",
      "source": [
        "words = stopwords.words(\"english\")\n",
        "x = df['text'][0].split()\n",
        "\" \".join([i for i in x if i not in words])\n"
      ],
      "metadata": {
        "colab": {
          "base_uri": "https://localhost:8080/",
          "height": 140
        },
        "id": "d7vut-WA3TDy",
        "outputId": "44fe31e2-e5c6-4c37-f8de-07e2ea71d8b0"
      },
      "execution_count": null,
      "outputs": [
        {
          "output_type": "execute_result",
          "data": {
            "text/plain": [
              "'tv future hands viewers home theatre systems plasma high-definition tvs digital video recorders moving living room way people watch tv radically different five years time. according expert panel gathered annual consumer electronics show las vegas discuss new technologies impact one favourite pastimes. us leading trend programmes content delivered viewers via home networks cable satellite telecoms companies broadband service providers front rooms portable devices. one talked-about technologies ces digital personal video recorders (dvr pvr). set-top boxes like us tivo uk sky+ system allow people record store play pause forward wind tv programmes want. essentially technology allows much personalised tv. also built-in high-definition tv sets big business japan us slower take europe lack high-definition programming. people forward wind adverts also forget abiding network channel schedules putting together a-la-carte entertainment. us networks cable satellite companies worried means terms advertising revenues well brand identity viewer loyalty channels. although us leads technology moment also concern raised europe particularly growing uptake services like sky+. happens today see nine months years time uk adam hume bbc broadcast futurologist told bbc news website. likes bbc issues lost advertising revenue yet. pressing issue moment commercial uk broadcasters brand loyalty important everyone. talking content brands rather network brands said tim hanlon brand communications firm starcom mediavest. reality broadband connections anybody producer content. added: challenge hard promote programme much choice. means said stacey jolna senior vice president tv guide tv group way people find content want watch simplified tv viewers. means networks us terms channels could take leaf google book search engine future instead scheduler help people find want watch. kind channel model might work younger ipod generation used taking control gadgets play them. might suit everyone panel recognised. older generations comfortable familiar schedules channel brands know getting. perhaps want much choice put hands mr hanlon suggested. end kids diapers pushing buttons already - everything possible available said mr hanlon. ultimately consumer tell market want. 50 000 new gadgets technologies showcased ces many enhancing tv-watching experience. high-definition tv sets everywhere many new models lcd (liquid crystal display) tvs launched dvr capability built instead external boxes. one example launched show humax 26-inch lcd tv 80-hour tivo dvr dvd recorder. one us biggest satellite tv companies directtv even launched branded dvr show 100-hours recording capability instant replay search function. set pause rewind tv 90 hours. microsoft chief bill gates announced pre-show keynote speech partnership tivo called tivotogo means people play recorded programmes windows pcs mobile devices. reflect increasing trend freeing multimedia people watch want want.'"
            ],
            "application/vnd.google.colaboratory.intrinsic+json": {
              "type": "string"
            }
          },
          "metadata": {},
          "execution_count": 17
        }
      ]
    },
    {
      "cell_type": "code",
      "source": [
        "# Doing all cleaning process using regex, stemmer, stopwords for all data\n",
        "df['text'] = [re.sub(\"[^a-zA-Z]\", \" \", i).lower() for i in df['text']]\n",
        "df['text'] = list(map(lambda x: \" \".join([i for i in x.lower().split() if i not in words]), df['text']))\n",
        "# df['text'] = [\" \".join(word.split() for word in df['text'] if word.lower() not in stopwords.words('english'))]\n",
        "df"
      ],
      "metadata": {
        "colab": {
          "base_uri": "https://localhost:8080/",
          "height": 423
        },
        "id": "8iBXfOfoFvaF",
        "outputId": "25d596f5-8353-43da-ce71-ca33a806c69f"
      },
      "execution_count": null,
      "outputs": [
        {
          "output_type": "execute_result",
          "data": {
            "text/plain": [
              "           category                                               text\n",
              "1951       business  christmas sales worst since uk retail sales fe...\n",
              "1642          sport  teenager tait picked england newcastle teenage...\n",
              "250           sport  wenger handed summer war chest arsenal boss ar...\n",
              "1050  entertainment  tough schedule delays elliot show preview perf...\n",
              "505           sport  gallas sees two horse race chelsea william gal...\n",
              "...             ...                                                ...\n",
              "2073          sport  koubek suspended drugs test stefan koubek says...\n",
              "1386          sport  adriano chelsea link rejected adriano agent gi...\n",
              "217           sport  hewitt falls dent adelaide lleyton hewitt suff...\n",
              "646            tech  gritty return prince persia still basking rela...\n",
              "143           sport  greene sets sights world title maurice greene ...\n",
              "\n",
              "[2225 rows x 2 columns]"
            ],
            "text/html": [
              "\n",
              "  <div id=\"df-eff931be-052f-4a75-8a18-76e1a78b54b5\" class=\"colab-df-container\">\n",
              "    <div>\n",
              "<style scoped>\n",
              "    .dataframe tbody tr th:only-of-type {\n",
              "        vertical-align: middle;\n",
              "    }\n",
              "\n",
              "    .dataframe tbody tr th {\n",
              "        vertical-align: top;\n",
              "    }\n",
              "\n",
              "    .dataframe thead th {\n",
              "        text-align: right;\n",
              "    }\n",
              "</style>\n",
              "<table border=\"1\" class=\"dataframe\">\n",
              "  <thead>\n",
              "    <tr style=\"text-align: right;\">\n",
              "      <th></th>\n",
              "      <th>category</th>\n",
              "      <th>text</th>\n",
              "    </tr>\n",
              "  </thead>\n",
              "  <tbody>\n",
              "    <tr>\n",
              "      <th>1951</th>\n",
              "      <td>business</td>\n",
              "      <td>christmas sales worst since uk retail sales fe...</td>\n",
              "    </tr>\n",
              "    <tr>\n",
              "      <th>1642</th>\n",
              "      <td>sport</td>\n",
              "      <td>teenager tait picked england newcastle teenage...</td>\n",
              "    </tr>\n",
              "    <tr>\n",
              "      <th>250</th>\n",
              "      <td>sport</td>\n",
              "      <td>wenger handed summer war chest arsenal boss ar...</td>\n",
              "    </tr>\n",
              "    <tr>\n",
              "      <th>1050</th>\n",
              "      <td>entertainment</td>\n",
              "      <td>tough schedule delays elliot show preview perf...</td>\n",
              "    </tr>\n",
              "    <tr>\n",
              "      <th>505</th>\n",
              "      <td>sport</td>\n",
              "      <td>gallas sees two horse race chelsea william gal...</td>\n",
              "    </tr>\n",
              "    <tr>\n",
              "      <th>...</th>\n",
              "      <td>...</td>\n",
              "      <td>...</td>\n",
              "    </tr>\n",
              "    <tr>\n",
              "      <th>2073</th>\n",
              "      <td>sport</td>\n",
              "      <td>koubek suspended drugs test stefan koubek says...</td>\n",
              "    </tr>\n",
              "    <tr>\n",
              "      <th>1386</th>\n",
              "      <td>sport</td>\n",
              "      <td>adriano chelsea link rejected adriano agent gi...</td>\n",
              "    </tr>\n",
              "    <tr>\n",
              "      <th>217</th>\n",
              "      <td>sport</td>\n",
              "      <td>hewitt falls dent adelaide lleyton hewitt suff...</td>\n",
              "    </tr>\n",
              "    <tr>\n",
              "      <th>646</th>\n",
              "      <td>tech</td>\n",
              "      <td>gritty return prince persia still basking rela...</td>\n",
              "    </tr>\n",
              "    <tr>\n",
              "      <th>143</th>\n",
              "      <td>sport</td>\n",
              "      <td>greene sets sights world title maurice greene ...</td>\n",
              "    </tr>\n",
              "  </tbody>\n",
              "</table>\n",
              "<p>2225 rows × 2 columns</p>\n",
              "</div>\n",
              "    <div class=\"colab-df-buttons\">\n",
              "\n",
              "  <div class=\"colab-df-container\">\n",
              "    <button class=\"colab-df-convert\" onclick=\"convertToInteractive('df-eff931be-052f-4a75-8a18-76e1a78b54b5')\"\n",
              "            title=\"Convert this dataframe to an interactive table.\"\n",
              "            style=\"display:none;\">\n",
              "\n",
              "  <svg xmlns=\"http://www.w3.org/2000/svg\" height=\"24px\" viewBox=\"0 -960 960 960\">\n",
              "    <path d=\"M120-120v-720h720v720H120Zm60-500h600v-160H180v160Zm220 220h160v-160H400v160Zm0 220h160v-160H400v160ZM180-400h160v-160H180v160Zm440 0h160v-160H620v160ZM180-180h160v-160H180v160Zm440 0h160v-160H620v160Z\"/>\n",
              "  </svg>\n",
              "    </button>\n",
              "\n",
              "  <style>\n",
              "    .colab-df-container {\n",
              "      display:flex;\n",
              "      gap: 12px;\n",
              "    }\n",
              "\n",
              "    .colab-df-convert {\n",
              "      background-color: #E8F0FE;\n",
              "      border: none;\n",
              "      border-radius: 50%;\n",
              "      cursor: pointer;\n",
              "      display: none;\n",
              "      fill: #1967D2;\n",
              "      height: 32px;\n",
              "      padding: 0 0 0 0;\n",
              "      width: 32px;\n",
              "    }\n",
              "\n",
              "    .colab-df-convert:hover {\n",
              "      background-color: #E2EBFA;\n",
              "      box-shadow: 0px 1px 2px rgba(60, 64, 67, 0.3), 0px 1px 3px 1px rgba(60, 64, 67, 0.15);\n",
              "      fill: #174EA6;\n",
              "    }\n",
              "\n",
              "    .colab-df-buttons div {\n",
              "      margin-bottom: 4px;\n",
              "    }\n",
              "\n",
              "    [theme=dark] .colab-df-convert {\n",
              "      background-color: #3B4455;\n",
              "      fill: #D2E3FC;\n",
              "    }\n",
              "\n",
              "    [theme=dark] .colab-df-convert:hover {\n",
              "      background-color: #434B5C;\n",
              "      box-shadow: 0px 1px 3px 1px rgba(0, 0, 0, 0.15);\n",
              "      filter: drop-shadow(0px 1px 2px rgba(0, 0, 0, 0.3));\n",
              "      fill: #FFFFFF;\n",
              "    }\n",
              "  </style>\n",
              "\n",
              "    <script>\n",
              "      const buttonEl =\n",
              "        document.querySelector('#df-eff931be-052f-4a75-8a18-76e1a78b54b5 button.colab-df-convert');\n",
              "      buttonEl.style.display =\n",
              "        google.colab.kernel.accessAllowed ? 'block' : 'none';\n",
              "\n",
              "      async function convertToInteractive(key) {\n",
              "        const element = document.querySelector('#df-eff931be-052f-4a75-8a18-76e1a78b54b5');\n",
              "        const dataTable =\n",
              "          await google.colab.kernel.invokeFunction('convertToInteractive',\n",
              "                                                    [key], {});\n",
              "        if (!dataTable) return;\n",
              "\n",
              "        const docLinkHtml = 'Like what you see? Visit the ' +\n",
              "          '<a target=\"_blank\" href=https://colab.research.google.com/notebooks/data_table.ipynb>data table notebook</a>'\n",
              "          + ' to learn more about interactive tables.';\n",
              "        element.innerHTML = '';\n",
              "        dataTable['output_type'] = 'display_data';\n",
              "        await google.colab.output.renderOutput(dataTable, element);\n",
              "        const docLink = document.createElement('div');\n",
              "        docLink.innerHTML = docLinkHtml;\n",
              "        element.appendChild(docLink);\n",
              "      }\n",
              "    </script>\n",
              "  </div>\n",
              "\n",
              "\n",
              "<div id=\"df-c2078007-13c9-4710-9bf4-e09d81e1e0ed\">\n",
              "  <button class=\"colab-df-quickchart\" onclick=\"quickchart('df-c2078007-13c9-4710-9bf4-e09d81e1e0ed')\"\n",
              "            title=\"Suggest charts\"\n",
              "            style=\"display:none;\">\n",
              "\n",
              "<svg xmlns=\"http://www.w3.org/2000/svg\" height=\"24px\"viewBox=\"0 0 24 24\"\n",
              "     width=\"24px\">\n",
              "    <g>\n",
              "        <path d=\"M19 3H5c-1.1 0-2 .9-2 2v14c0 1.1.9 2 2 2h14c1.1 0 2-.9 2-2V5c0-1.1-.9-2-2-2zM9 17H7v-7h2v7zm4 0h-2V7h2v10zm4 0h-2v-4h2v4z\"/>\n",
              "    </g>\n",
              "</svg>\n",
              "  </button>\n",
              "\n",
              "<style>\n",
              "  .colab-df-quickchart {\n",
              "      --bg-color: #E8F0FE;\n",
              "      --fill-color: #1967D2;\n",
              "      --hover-bg-color: #E2EBFA;\n",
              "      --hover-fill-color: #174EA6;\n",
              "      --disabled-fill-color: #AAA;\n",
              "      --disabled-bg-color: #DDD;\n",
              "  }\n",
              "\n",
              "  [theme=dark] .colab-df-quickchart {\n",
              "      --bg-color: #3B4455;\n",
              "      --fill-color: #D2E3FC;\n",
              "      --hover-bg-color: #434B5C;\n",
              "      --hover-fill-color: #FFFFFF;\n",
              "      --disabled-bg-color: #3B4455;\n",
              "      --disabled-fill-color: #666;\n",
              "  }\n",
              "\n",
              "  .colab-df-quickchart {\n",
              "    background-color: var(--bg-color);\n",
              "    border: none;\n",
              "    border-radius: 50%;\n",
              "    cursor: pointer;\n",
              "    display: none;\n",
              "    fill: var(--fill-color);\n",
              "    height: 32px;\n",
              "    padding: 0;\n",
              "    width: 32px;\n",
              "  }\n",
              "\n",
              "  .colab-df-quickchart:hover {\n",
              "    background-color: var(--hover-bg-color);\n",
              "    box-shadow: 0 1px 2px rgba(60, 64, 67, 0.3), 0 1px 3px 1px rgba(60, 64, 67, 0.15);\n",
              "    fill: var(--button-hover-fill-color);\n",
              "  }\n",
              "\n",
              "  .colab-df-quickchart-complete:disabled,\n",
              "  .colab-df-quickchart-complete:disabled:hover {\n",
              "    background-color: var(--disabled-bg-color);\n",
              "    fill: var(--disabled-fill-color);\n",
              "    box-shadow: none;\n",
              "  }\n",
              "\n",
              "  .colab-df-spinner {\n",
              "    border: 2px solid var(--fill-color);\n",
              "    border-color: transparent;\n",
              "    border-bottom-color: var(--fill-color);\n",
              "    animation:\n",
              "      spin 1s steps(1) infinite;\n",
              "  }\n",
              "\n",
              "  @keyframes spin {\n",
              "    0% {\n",
              "      border-color: transparent;\n",
              "      border-bottom-color: var(--fill-color);\n",
              "      border-left-color: var(--fill-color);\n",
              "    }\n",
              "    20% {\n",
              "      border-color: transparent;\n",
              "      border-left-color: var(--fill-color);\n",
              "      border-top-color: var(--fill-color);\n",
              "    }\n",
              "    30% {\n",
              "      border-color: transparent;\n",
              "      border-left-color: var(--fill-color);\n",
              "      border-top-color: var(--fill-color);\n",
              "      border-right-color: var(--fill-color);\n",
              "    }\n",
              "    40% {\n",
              "      border-color: transparent;\n",
              "      border-right-color: var(--fill-color);\n",
              "      border-top-color: var(--fill-color);\n",
              "    }\n",
              "    60% {\n",
              "      border-color: transparent;\n",
              "      border-right-color: var(--fill-color);\n",
              "    }\n",
              "    80% {\n",
              "      border-color: transparent;\n",
              "      border-right-color: var(--fill-color);\n",
              "      border-bottom-color: var(--fill-color);\n",
              "    }\n",
              "    90% {\n",
              "      border-color: transparent;\n",
              "      border-bottom-color: var(--fill-color);\n",
              "    }\n",
              "  }\n",
              "</style>\n",
              "\n",
              "  <script>\n",
              "    async function quickchart(key) {\n",
              "      const quickchartButtonEl =\n",
              "        document.querySelector('#' + key + ' button');\n",
              "      quickchartButtonEl.disabled = true;  // To prevent multiple clicks.\n",
              "      quickchartButtonEl.classList.add('colab-df-spinner');\n",
              "      try {\n",
              "        const charts = await google.colab.kernel.invokeFunction(\n",
              "            'suggestCharts', [key], {});\n",
              "      } catch (error) {\n",
              "        console.error('Error during call to suggestCharts:', error);\n",
              "      }\n",
              "      quickchartButtonEl.classList.remove('colab-df-spinner');\n",
              "      quickchartButtonEl.classList.add('colab-df-quickchart-complete');\n",
              "    }\n",
              "    (() => {\n",
              "      let quickchartButtonEl =\n",
              "        document.querySelector('#df-c2078007-13c9-4710-9bf4-e09d81e1e0ed button');\n",
              "      quickchartButtonEl.style.display =\n",
              "        google.colab.kernel.accessAllowed ? 'block' : 'none';\n",
              "    })();\n",
              "  </script>\n",
              "</div>\n",
              "\n",
              "  <div id=\"id_8c55bd68-a2e5-4894-b747-7dcf21675b6c\">\n",
              "    <style>\n",
              "      .colab-df-generate {\n",
              "        background-color: #E8F0FE;\n",
              "        border: none;\n",
              "        border-radius: 50%;\n",
              "        cursor: pointer;\n",
              "        display: none;\n",
              "        fill: #1967D2;\n",
              "        height: 32px;\n",
              "        padding: 0 0 0 0;\n",
              "        width: 32px;\n",
              "      }\n",
              "\n",
              "      .colab-df-generate:hover {\n",
              "        background-color: #E2EBFA;\n",
              "        box-shadow: 0px 1px 2px rgba(60, 64, 67, 0.3), 0px 1px 3px 1px rgba(60, 64, 67, 0.15);\n",
              "        fill: #174EA6;\n",
              "      }\n",
              "\n",
              "      [theme=dark] .colab-df-generate {\n",
              "        background-color: #3B4455;\n",
              "        fill: #D2E3FC;\n",
              "      }\n",
              "\n",
              "      [theme=dark] .colab-df-generate:hover {\n",
              "        background-color: #434B5C;\n",
              "        box-shadow: 0px 1px 3px 1px rgba(0, 0, 0, 0.15);\n",
              "        filter: drop-shadow(0px 1px 2px rgba(0, 0, 0, 0.3));\n",
              "        fill: #FFFFFF;\n",
              "      }\n",
              "    </style>\n",
              "    <button class=\"colab-df-generate\" onclick=\"generateWithVariable('df')\"\n",
              "            title=\"Generate code using this dataframe.\"\n",
              "            style=\"display:none;\">\n",
              "\n",
              "  <svg xmlns=\"http://www.w3.org/2000/svg\" height=\"24px\"viewBox=\"0 0 24 24\"\n",
              "       width=\"24px\">\n",
              "    <path d=\"M7,19H8.4L18.45,9,17,7.55,7,17.6ZM5,21V16.75L18.45,3.32a2,2,0,0,1,2.83,0l1.4,1.43a1.91,1.91,0,0,1,.58,1.4,1.91,1.91,0,0,1-.58,1.4L9.25,21ZM18.45,9,17,7.55Zm-12,3A5.31,5.31,0,0,0,4.9,8.1,5.31,5.31,0,0,0,1,6.5,5.31,5.31,0,0,0,4.9,4.9,5.31,5.31,0,0,0,6.5,1,5.31,5.31,0,0,0,8.1,4.9,5.31,5.31,0,0,0,12,6.5,5.46,5.46,0,0,0,6.5,12Z\"/>\n",
              "  </svg>\n",
              "    </button>\n",
              "    <script>\n",
              "      (() => {\n",
              "      const buttonEl =\n",
              "        document.querySelector('#id_8c55bd68-a2e5-4894-b747-7dcf21675b6c button.colab-df-generate');\n",
              "      buttonEl.style.display =\n",
              "        google.colab.kernel.accessAllowed ? 'block' : 'none';\n",
              "\n",
              "      buttonEl.onclick = () => {\n",
              "        google.colab.notebook.generateWithVariable('df');\n",
              "      }\n",
              "      })();\n",
              "    </script>\n",
              "  </div>\n",
              "\n",
              "    </div>\n",
              "  </div>\n"
            ],
            "application/vnd.google.colaboratory.intrinsic+json": {
              "type": "dataframe",
              "variable_name": "df",
              "summary": "{\n  \"name\": \"df\",\n  \"rows\": 2225,\n  \"fields\": [\n    {\n      \"column\": \"category\",\n      \"properties\": {\n        \"dtype\": \"category\",\n        \"num_unique_values\": 5,\n        \"samples\": [\n          \"sport\",\n          \"tech\",\n          \"entertainment\"\n        ],\n        \"semantic_type\": \"\",\n        \"description\": \"\"\n      }\n    },\n    {\n      \"column\": \"text\",\n      \"properties\": {\n        \"dtype\": \"string\",\n        \"num_unique_values\": 2119,\n        \"samples\": [\n          \"nintendo handheld given euro date nintendo new handheld console ds launch europe march company announced portable games machine features touch screen control retail uk euros nintendo said games would available uk launch prices ranging million ds consoles sold since first appeared us japan end rival sony said launch first handheld console psp us europe end march psp expected compete large part handheld market despite sony assertion machines aimed different consumers games available european launch date include nintendo super mario ds well titles third party developers ubisoft rayman ds games development new console nintendo said ds backwards compatible game boy advance allowing earlier machine back catalogue games played additionally short range wireless link multiplayer gaming built ds download play option allows group play even one person owns copy features include short range messaging application called pictochat built microphone used sega launch title project rub nintendo also announced media adapter allow console play music video move launch price euros compares favourably us price according john houlihan editor computerandvideogames com magazine competitive price point innovative features nintendo created quite buzz says however line games could stronger everyone wanted see eight player mario kart ds example mr houlihan believes likely audience nintendo ds sony new psp former aimed largely younger audience latter expected marketed multimedia device psp sexy bit kit sony attitude psp understated europe far mr houlihan said worldwide handheld software market estimated worth bn end according industry analysts screen digest past games consoles handhelds generally launched much later europe parts world however nintendo president satoru iwata said company pleased offered short period time us european launch europe extremely important market nintendo mr iwata added nintendo raised sales targets ds console last december selling million us japan weeks\",\n          \"nadal puts spain result nadal roddick spain rafael nadal beats andy roddick usa second singles match rubber davis cup final seville spain lead carlos moya beat mardy fish straight sets opening match tie nadal holds nerve crowd goes wild spain go tie roddick holds serve force nadal serve match american surely cannot turn things around nadal works roddick around court two consecutive points earn two break points one enough spaniard secures double break roddick teetering edge roddick trying gee clay surface taking toll game looking tired nadal wins game love nadal steps pressure break spain early initiative fourth set nadal also holds convincingly players feel way fourth set roddick shrugs disappointment losing third set tiebreak breezes first service game fourth set nadal earns first mini break tiebreak match enters fourth hour couple stunning points follow one nadal chases roddick shot turns passing winner roddick produces amazing defence net take score roddick two serves set double faults take score nadal saves roddick set point earns drive volley crosscourt passing winner sends crowd wild nadal tries aggression passes roddick line go two set points roddick saves first desperate lunge volley smacks volley winner across court take score back deuce securing game set go another tiebreak nadal enjoys another straightforward hold roddick must serve stay set roddick holds despite brilliant shot making opponent nadal races service game put pressure straight back onto roddick roddick hangs serve level matters nadal making fight every point nadal could suffering disappointment hangover previous game goes save break point tremendous rally forced brilliant defence pays spaniard edges ahead set roddick serve firing ferociously usual rely sheer competitive determination stay set three times nadal forces break point three times world number two hangs roddick grit pays manages hold roddick still looks bit sluggish attacks net rewarded break point nadal saves good first serve spaniard goes hold disruption play roddick upset something crowd spanish captain gets involved match referee unclear problem one thing certain crowd roused support nadal go wild roddick loses next point goes break point roddick saves break point bangs ninth ace clinching game service winner game passes two hour mark nadal holds serve edge ahead third set roddick defend break point produces characteristic ace save immediately followed another holds little dinked half volley winner roddick looking little leaden footed carve break point plays poorly nadal avoids danger roddick gone boil struggles fails get properly low forehand volley gives nadal three break points american blasts ace save one follows double fault rubber level nadal edges towards taking second set comfortable hold two good serves put roddick makes couple errors find saves break point ace manages hold roddick level dropped nadal hot streak spaniard includes superb crosscourt winner back foot races service game without dropping point roddick double faults twice nadal takes full advantage break point offered powering passing winner past roddick nadal wins another tight game neither player dipped high standard play first set nadal puts american pressure roddick saves break point superb stop volley going hold nadal puts disappointment losing first set tiebreak claim opening game second roddick double faults concede first mini break nadal loops crosscourt winner seize advantage tiebreak lets one slip wins next serve earn three set points roddick saves earns one nadal comes line winner nets tamely roddick next set point nadal nerve tested tries force tiebreak players come scintillating tennis spaniard several chances clinch game finally roddick drives wide pulsating game sees nadal racing round court retrieving refusing give roddick easy points point match far involves roddick slam dunk smash returned nadal roddick finally manages end rally next point nadal blasts forehand service return right court passes roddick even american forced applaud roddick comes two big serves polish game nadal outplays roddick reach american fights back nadal powerful crosscourt forehand winner secures game crowd getting involved cheering roddick first second serves american comes hold edge ahead set nadal manages hold despite roddick piling pressure serve spaniard wins game courtesy another lucky net cord roddick double faults buts manages keep composure well placed serve unreturnable roddick holds powerful ace middle gives nadal simple love service game first time held serve far match roddick know knows real contest another superb game nadal breaks lift roof produces fine groundstrokes leave roddick chasing shadows four first five games seen break serve despite disappointment losing serve roddick phased storms lead umpire leaves seat confirm close line call nadal takes next point roddick breaks sharp volley net roddick advantage short lived nadal breaks back immediately fortunate net cord helps spaniard way roddick fires forehand cross court shot wide lose serve nadal pumps fist celebration american pumped clash takes nadal serve start nadal drop shot agonisingly called roddick claims vital first break moya win opening rubber raucous seville crowd buoyed nadal impressive start sees race lead however roddick fights back hold serve\",\n          \"holmes wins top tv moment sprinter kelly holmes olympic victory named top television moment bbc poll holmes gold medal victory beat favourite moments drama comedy factual programmes voted television viewers natasha kaplinsky strictly come dancing win top entertainment moment little britain breast feeding sketch comedy prize tv moments shown bbc one gmt wednesday double gold medal winner holmes topped best sports moment category beating maria sharapova wimbledon triumph matthew pinsent rowing victory olympics went take overall prize golden tv moment sight former royal correspondent jennie bond dozens rats crawling itv celebrity get named best factual entertainment moment michael buerk return ethiopia years originally reporting famine topped factual category bbc programme world long running soap eastenders best popular drama moment title character dot confided den watts unwell\"\n        ],\n        \"semantic_type\": \"\",\n        \"description\": \"\"\n      }\n    }\n  ]\n}"
            }
          },
          "metadata": {},
          "execution_count": 18
        }
      ]
    },
    {
      "cell_type": "code",
      "source": [],
      "metadata": {
        "id": "8fzgwwiH0nGA"
      },
      "execution_count": null,
      "outputs": []
    },
    {
      "cell_type": "code",
      "source": [
        "# from google.colab import drive\n",
        "# drive.mount('/content/drive')"
      ],
      "metadata": {
        "id": "pEc70P0TyCYi"
      },
      "execution_count": null,
      "outputs": []
    },
    {
      "cell_type": "code",
      "source": [
        "df['cleaned'] = df['text'].apply(lambda x: \" \".join([stemmer.stem(i) for i in re.sub(\"[^a-zA-Z]\", \" \", x).split() ]).lower())\n",
        "# df"
      ],
      "metadata": {
        "id": "76wP0Gl7s-Eb"
      },
      "execution_count": null,
      "outputs": []
    },
    {
      "cell_type": "code",
      "source": [
        "df.to_csv('cleaned_bbc_data.csv')"
      ],
      "metadata": {
        "id": "rpyZb6DBr0yS"
      },
      "execution_count": null,
      "outputs": []
    },
    {
      "cell_type": "code",
      "source": [
        "# words = stopwords.words(\"nepali\")\n",
        "# words"
      ],
      "metadata": {
        "id": "9QpxBwUMvFrW"
      },
      "execution_count": null,
      "outputs": []
    },
    {
      "cell_type": "code",
      "source": [
        "# df['cleaned'] = df['text'].apply(lambda x: \" \".join([stemmer.stem(i) for i in re.sub(\"[^a-zA-Z]\", \" \", x).split() if i not in words]).lower())\n",
        "# df"
      ],
      "metadata": {
        "id": "e7YQAi-Asdy2"
      },
      "execution_count": null,
      "outputs": []
    },
    {
      "cell_type": "code",
      "source": [
        "# Training model\n",
        "from sklearn.linear_model import LogisticRegression\n",
        "log_regression = LogisticRegression()\n",
        "\n",
        "vectorizer = TfidfVectorizer()\n",
        "X = df['text']\n",
        "Y = df['category']\n",
        "\n",
        "X_train, X_test, y_train, y_test = train_test_split(X, Y, test_size=0.15) #Splitting dataset\n",
        "\n",
        "\n",
        "# #Creating Pipeline\n",
        "pipeline = Pipeline([('vect', vectorizer),\n",
        "                     ('chi',  SelectKBest(chi2, k=2000)),\n",
        "                     ('clf', LogisticRegression())])\n",
        "\n",
        "\n",
        "# #Training model\n",
        "model = pipeline.fit(X_train, y_train)\n",
        "\n",
        "# #Creating pickle file\n",
        "with open('LogisticRegression.pickle', 'wb') as f:\n",
        "    pickle.dump(model, f)\n",
        "\n",
        "\n",
        "# from sklearn.pipeline import Pipeline\n",
        "# from sklearn.svm import SVC\n",
        "# from sklearn.feature_extraction.text import CountVectorizer\n",
        "# from sklearn.feature_extraction.text import TfidfTransformer\n",
        "\n",
        "# svc_pipeline = Pipeline([\n",
        "#     ('bow', CountVectorizer()),  # strings to token integer counts\n",
        "#     ('tfidf', TfidfTransformer()),  # integer counts to weighted TF-IDF scores\n",
        "#     ('classifier', SVC()),  # train on TF-IDF vectors w/ SVM\n",
        "# ])\n",
        "# svc_pipeline.fit(X_train, y_train)"
      ],
      "metadata": {
        "id": "qunZeGdV_GLj"
      },
      "execution_count": null,
      "outputs": []
    },
    {
      "cell_type": "code",
      "source": [],
      "metadata": {
        "id": "gTu8No-03r2c"
      },
      "execution_count": null,
      "outputs": []
    },
    {
      "cell_type": "code",
      "source": [],
      "metadata": {
        "id": "yza-3zgGX9eE"
      },
      "execution_count": null,
      "outputs": []
    },
    {
      "cell_type": "code",
      "source": [
        "X_test"
      ],
      "metadata": {
        "colab": {
          "base_uri": "https://localhost:8080/",
          "height": 458
        },
        "id": "gSyRFPq-duso",
        "outputId": "c3ed8d40-95a9-4c98-a4da-11997b5dcc25"
      },
      "execution_count": null,
      "outputs": [
        {
          "output_type": "execute_result",
          "data": {
            "text/plain": [
              "1363    calder fears scottish rugby former scotland in...\n",
              "961     stars shine bafta red carpet hollywood stars b...\n",
              "1275    could yukos blessing disguise things equal not...\n",
              "1175    director nair vanity project indian film direc...\n",
              "118     chelsea denied james heroics brave defensive d...\n",
              "                              ...                        \n",
              "1742    technology gets creative bug hi tech arts worl...\n",
              "68      microsoft gets blogging bug software giant mic...\n",
              "1873    bank voted rate change decision keep interest ...\n",
              "466     healey targets england comeback leicester wing...\n",
              "965     us manufacturing expands us industrial product...\n",
              "Name: text, Length: 334, dtype: object"
            ],
            "text/html": [
              "<div>\n",
              "<style scoped>\n",
              "    .dataframe tbody tr th:only-of-type {\n",
              "        vertical-align: middle;\n",
              "    }\n",
              "\n",
              "    .dataframe tbody tr th {\n",
              "        vertical-align: top;\n",
              "    }\n",
              "\n",
              "    .dataframe thead th {\n",
              "        text-align: right;\n",
              "    }\n",
              "</style>\n",
              "<table border=\"1\" class=\"dataframe\">\n",
              "  <thead>\n",
              "    <tr style=\"text-align: right;\">\n",
              "      <th></th>\n",
              "      <th>text</th>\n",
              "    </tr>\n",
              "  </thead>\n",
              "  <tbody>\n",
              "    <tr>\n",
              "      <th>1363</th>\n",
              "      <td>calder fears scottish rugby former scotland in...</td>\n",
              "    </tr>\n",
              "    <tr>\n",
              "      <th>961</th>\n",
              "      <td>stars shine bafta red carpet hollywood stars b...</td>\n",
              "    </tr>\n",
              "    <tr>\n",
              "      <th>1275</th>\n",
              "      <td>could yukos blessing disguise things equal not...</td>\n",
              "    </tr>\n",
              "    <tr>\n",
              "      <th>1175</th>\n",
              "      <td>director nair vanity project indian film direc...</td>\n",
              "    </tr>\n",
              "    <tr>\n",
              "      <th>118</th>\n",
              "      <td>chelsea denied james heroics brave defensive d...</td>\n",
              "    </tr>\n",
              "    <tr>\n",
              "      <th>...</th>\n",
              "      <td>...</td>\n",
              "    </tr>\n",
              "    <tr>\n",
              "      <th>1742</th>\n",
              "      <td>technology gets creative bug hi tech arts worl...</td>\n",
              "    </tr>\n",
              "    <tr>\n",
              "      <th>68</th>\n",
              "      <td>microsoft gets blogging bug software giant mic...</td>\n",
              "    </tr>\n",
              "    <tr>\n",
              "      <th>1873</th>\n",
              "      <td>bank voted rate change decision keep interest ...</td>\n",
              "    </tr>\n",
              "    <tr>\n",
              "      <th>466</th>\n",
              "      <td>healey targets england comeback leicester wing...</td>\n",
              "    </tr>\n",
              "    <tr>\n",
              "      <th>965</th>\n",
              "      <td>us manufacturing expands us industrial product...</td>\n",
              "    </tr>\n",
              "  </tbody>\n",
              "</table>\n",
              "<p>334 rows × 1 columns</p>\n",
              "</div><br><label><b>dtype:</b> object</label>"
            ]
          },
          "metadata": {},
          "execution_count": 41
        }
      ]
    },
    {
      "cell_type": "code",
      "source": [
        "y_test"
      ],
      "metadata": {
        "colab": {
          "base_uri": "https://localhost:8080/",
          "height": 458
        },
        "id": "GBpFpej76bMT",
        "outputId": "d7a7dd56-ea80-468a-9ab1-76e6272354eb"
      },
      "execution_count": null,
      "outputs": [
        {
          "output_type": "execute_result",
          "data": {
            "text/plain": [
              "1363            sport\n",
              "961     entertainment\n",
              "1275         business\n",
              "1175    entertainment\n",
              "118             sport\n",
              "            ...      \n",
              "1742             tech\n",
              "68               tech\n",
              "1873         business\n",
              "466             sport\n",
              "965          business\n",
              "Name: category, Length: 334, dtype: object"
            ],
            "text/html": [
              "<div>\n",
              "<style scoped>\n",
              "    .dataframe tbody tr th:only-of-type {\n",
              "        vertical-align: middle;\n",
              "    }\n",
              "\n",
              "    .dataframe tbody tr th {\n",
              "        vertical-align: top;\n",
              "    }\n",
              "\n",
              "    .dataframe thead th {\n",
              "        text-align: right;\n",
              "    }\n",
              "</style>\n",
              "<table border=\"1\" class=\"dataframe\">\n",
              "  <thead>\n",
              "    <tr style=\"text-align: right;\">\n",
              "      <th></th>\n",
              "      <th>category</th>\n",
              "    </tr>\n",
              "  </thead>\n",
              "  <tbody>\n",
              "    <tr>\n",
              "      <th>1363</th>\n",
              "      <td>sport</td>\n",
              "    </tr>\n",
              "    <tr>\n",
              "      <th>961</th>\n",
              "      <td>entertainment</td>\n",
              "    </tr>\n",
              "    <tr>\n",
              "      <th>1275</th>\n",
              "      <td>business</td>\n",
              "    </tr>\n",
              "    <tr>\n",
              "      <th>1175</th>\n",
              "      <td>entertainment</td>\n",
              "    </tr>\n",
              "    <tr>\n",
              "      <th>118</th>\n",
              "      <td>sport</td>\n",
              "    </tr>\n",
              "    <tr>\n",
              "      <th>...</th>\n",
              "      <td>...</td>\n",
              "    </tr>\n",
              "    <tr>\n",
              "      <th>1742</th>\n",
              "      <td>tech</td>\n",
              "    </tr>\n",
              "    <tr>\n",
              "      <th>68</th>\n",
              "      <td>tech</td>\n",
              "    </tr>\n",
              "    <tr>\n",
              "      <th>1873</th>\n",
              "      <td>business</td>\n",
              "    </tr>\n",
              "    <tr>\n",
              "      <th>466</th>\n",
              "      <td>sport</td>\n",
              "    </tr>\n",
              "    <tr>\n",
              "      <th>965</th>\n",
              "      <td>business</td>\n",
              "    </tr>\n",
              "  </tbody>\n",
              "</table>\n",
              "<p>334 rows × 1 columns</p>\n",
              "</div><br><label><b>dtype:</b> object</label>"
            ]
          },
          "metadata": {},
          "execution_count": 42
        }
      ]
    },
    {
      "cell_type": "code",
      "source": [
        "#Test Accuracy of Logistic regression\n",
        "from sklearn.metrics import accuracy_score\n",
        "predict_news_cat = model.predict(X_test)\n",
        "# print(predict_news_cat)\n",
        "print(accuracy_score(y_test,predict_news_cat))\n",
        "# print('\\n')\n",
        "# print(predict_news_cat)"
      ],
      "metadata": {
        "id": "aAZIfQmWIlP1",
        "colab": {
          "base_uri": "https://localhost:8080/"
        },
        "outputId": "08234162-deaa-4a5d-e8d3-4bf7229e9dce"
      },
      "execution_count": null,
      "outputs": [
        {
          "output_type": "stream",
          "name": "stdout",
          "text": [
            "0.9640718562874252\n"
          ]
        }
      ]
    },
    {
      "cell_type": "code",
      "source": [
        "#Train Accuracy of Logistic regression\n",
        "from sklearn.metrics import accuracy_score\n",
        "predict_news_cat = model.predict(X_train)\n",
        "# print(predict_news_cat)\n",
        "print(accuracy_score(y_train,predict_news_cat))\n",
        "# print('\\n')\n",
        "# print(predict_news_cat)"
      ],
      "metadata": {
        "colab": {
          "base_uri": "https://localhost:8080/"
        },
        "id": "-AkOaFhw_nMq",
        "outputId": "e4a1b9bf-6351-4aea-8139-56c94ec59ec8"
      },
      "execution_count": null,
      "outputs": [
        {
          "output_type": "stream",
          "name": "stdout",
          "text": [
            "0.9862506610259122\n"
          ]
        }
      ]
    },
    {
      "cell_type": "code",
      "source": [
        "#Test Accuracy of SVC\n",
        "from sklearn.metrics import accuracy_score\n",
        "predict_news_cat = svc_pipeline.predict(X_test)\n",
        "# print(predict_news_cat)\n",
        "print(accuracy_score(y_test,predict_news_cat))\n",
        "# print('\\n')\n",
        "# print(predict_news_cat)\n",
        "\n",
        "#Train Accuracy of SVC\n",
        "from sklearn.metrics import accuracy_score\n",
        "predict_news_cat = svc_pipeline.predict(X_train)\n",
        "# print(predict_news_cat)\n",
        "print(accuracy_score(y_train,predict_news_cat))\n",
        "# print('\\n')\n",
        "# print(predict_news_cat)"
      ],
      "metadata": {
        "colab": {
          "base_uri": "https://localhost:8080/"
        },
        "id": "7xo2BouMYKko",
        "outputId": "ce26ff1d-400f-44a8-b03a-fffbe9450ab3"
      },
      "execution_count": null,
      "outputs": [
        {
          "output_type": "stream",
          "name": "stdout",
          "text": [
            "0.9670658682634731\n",
            "1.0\n"
          ]
        }
      ]
    },
    {
      "cell_type": "code",
      "source": [
        "# file = open('/content/news.txt','r')\n",
        "# news = file.read()\n",
        "# file.close()\n",
        "\n",
        "news = input(\"Enter news = \")\n",
        "news_data = {'predict_news':[news]}\n",
        "news_data_df = pd.DataFrame(news_data)\n",
        "# news_data_df\n",
        "predict_news_cat = model.predict(news_data_df['predict_news'])\n",
        "print(\"Predicted news category = \",predict_news_cat[0])"
      ],
      "metadata": {
        "colab": {
          "base_uri": "https://localhost:8080/"
        },
        "id": "5S-Fnbr-DT65",
        "outputId": "93639328-89f9-49a0-f72f-f3c37fd10c26"
      },
      "execution_count": null,
      "outputs": [
        {
          "output_type": "stream",
          "name": "stdout",
          "text": [
            "Enter news = Prime Minister KP Sharma Oli has returned home after concluding his four-official visit to China.  The Nepali delegation led by PM Oli arrived in Kathmandu on a chartered Himalayan Airlines flight on Thursday afternoon.  A press conference is being organized at the Tribhuvan International Airport in Kathmandu to brief the media on the China visit.  PM Oli had left for China on Monday for his first official foreign trip since taking office. He held talks with Chinese President Xi Jinping in Beijing on Tuesday.  During the visit, Nepal and China also signed various deals in the presence of PM Oli and his Chinese counterpart Li Qiang.\n",
            "Predicted news category =  business\n"
          ]
        }
      ]
    },
    {
      "cell_type": "code",
      "source": [
        "import pickle\n",
        "load_model = pickle.load(open('LogisticRegression.pickle', 'rb'))\n",
        "pred = load_model.predict(news_data_df['predict_news'])\n",
        "pred"
      ],
      "metadata": {
        "colab": {
          "base_uri": "https://localhost:8080/"
        },
        "id": "9G7Ldf1h3vU_",
        "outputId": "960bcab5-a872-4b1a-8a07-a3c2c2dde736"
      },
      "execution_count": null,
      "outputs": [
        {
          "output_type": "execute_result",
          "data": {
            "text/plain": [
              "array(['business'], dtype=object)"
            ]
          },
          "metadata": {},
          "execution_count": 32
        }
      ]
    },
    {
      "cell_type": "code",
      "source": [
        "# confusion matrix and classification report(precision, recall, F1-score)\n",
        "ytest = np.array(y_test)\n",
        "print(classification_report(ytest,model.predict(X_test)))\n",
        "print(confusion_matrix(model.predict(X_test),ytest))"
      ],
      "metadata": {
        "id": "y24Ctjrm_rpj",
        "colab": {
          "base_uri": "https://localhost:8080/"
        },
        "outputId": "e0071ff0-b5ed-49a3-d754-04a24e921e33"
      },
      "execution_count": null,
      "outputs": [
        {
          "output_type": "stream",
          "name": "stdout",
          "text": [
            "               precision    recall  f1-score   support\n",
            "\n",
            "     business       0.97      1.00      0.99        67\n",
            "entertainment       0.98      0.97      0.98        61\n",
            "     politics       0.98      0.97      0.98        61\n",
            "        sport       0.92      1.00      0.96        81\n",
            "         tech       0.98      0.88      0.93        64\n",
            "\n",
            "     accuracy                           0.96       334\n",
            "    macro avg       0.97      0.96      0.96       334\n",
            " weighted avg       0.97      0.96      0.96       334\n",
            "\n",
            "[[67  0  1  0  1]\n",
            " [ 0 59  0  0  1]\n",
            " [ 0  1 59  0  0]\n",
            " [ 0  0  1 81  6]\n",
            " [ 0  1  0  0 56]]\n"
          ]
        }
      ]
    },
    {
      "cell_type": "code",
      "source": [
        "import matplotlib.pyplot as plt\n",
        "from sklearn.metrics import ConfusionMatrixDisplay\n",
        "cm = confusion_matrix(y_test,model.predict(X_test))\n",
        "# Change figure size and increase dpi for better resolution\n",
        "# and get reference to axes object\n",
        "fig, ax = plt.subplots(figsize=(8,8), dpi=100)\n",
        "class_names = ['business','entertainment','politics','sport','tech']\n",
        "# initialize using the raw 2D confusion matrix\n",
        "# and output labels (in our case, it's 0 and 1)\n",
        "display = ConfusionMatrixDisplay(cm, display_labels=class_names)\n",
        "# set the plot title using the axes object\n",
        "ax.set(title='Confusion Matrix for the  Text Classification Model (Logistic regression classifier)')\n",
        "# show the plot.\n",
        "# Pass the parameter ax to show customizations (ex. title)\n",
        "display.plot(ax=ax);"
      ],
      "metadata": {
        "id": "0CoGLcdeMxjw",
        "colab": {
          "base_uri": "https://localhost:8080/",
          "height": 661
        },
        "outputId": "a68c01d4-dc60-4734-f8bf-1f2831fd1c33"
      },
      "execution_count": null,
      "outputs": [
        {
          "output_type": "display_data",
          "data": {
            "text/plain": [
              "<Figure size 800x800 with 2 Axes>"
            ],
            "image/png": "[encoded data removed]"
          },
          "metadata": {}
        }
      ]
    },
    {
      "cell_type": "code",
      "source": [
        "import matplotlib.pyplot as plt\n",
        "from sklearn.metrics import ConfusionMatrixDisplay\n",
        "cm = confusion_matrix(y_test,svc_pipeline.predict(X_test))\n",
        "# Change figure size and increase dpi for better resolution\n",
        "# and get reference to axes object\n",
        "fig, ax = plt.subplots(figsize=(8,8), dpi=100)\n",
        "class_names = ['business','entertainment','politics','sport','tech']\n",
        "# initialize using the raw 2D confusion matrix\n",
        "# and output labels (in our case, it's 0 and 1)\n",
        "display = ConfusionMatrixDisplay(cm, display_labels=class_names)\n",
        "# set the plot title using the axes object\n",
        "ax.set(title='Confusion Matrix for the  Text Classification Model (SVC)')\n",
        "# show the plot.\n",
        "# Pass the parameter ax to show customizations (ex. title)\n",
        "display.plot(ax=ax);"
      ],
      "metadata": {
        "id": "P0-iUgZeCah1",
        "colab": {
          "base_uri": "https://localhost:8080/",
          "height": 661
        },
        "outputId": "b70875bc-fd22-43fd-c90a-b95b48c57216"
      },
      "execution_count": null,
      "outputs": [
        {
          "output_type": "display_data",
          "data": {
            "text/plain": [
              "<Figure size 800x800 with 2 Axes>"
            ],
            "image/png": "[encoded data removed]"
          },
          "metadata": {}
        }
      ]
    },
    {
      "cell_type": "code",
      "source": [],
      "metadata": {
        "id": "bS3Sgl3kY7rw"
      },
      "execution_count": null,
      "outputs": []
    }
  ]
}